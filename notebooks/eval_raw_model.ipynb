{
 "cells": [
  {
   "cell_type": "markdown",
   "id": "44a024e21f52cda5",
   "metadata": {},
   "source": [
    "## Setup environment"
   ]
  },
  {
   "cell_type": "code",
   "execution_count": 13,
   "id": "initial_id",
   "metadata": {
    "ExecuteTime": {
     "end_time": "2024-12-15T10:49:57.573807Z",
     "start_time": "2024-12-15T10:49:57.570195Z"
    },
    "collapsed": true,
    "jupyter": {
     "outputs_hidden": true
    }
   },
   "outputs": [],
   "source": [
    "import os\n",
    "\n",
    "import torch\n",
    "from dataset.dataset_type import DatasetType\n",
    "from files_handler import ModelFilesHandler\n",
    "from measures import MeasureToolFactory\n",
    "from measures import ModelType"
   ]
  },
  {
   "cell_type": "markdown",
   "id": "a9f762615e6971c6",
   "metadata": {},
   "source": [
    "## Provide file path"
   ]
  },
  {
   "cell_type": "code",
   "execution_count": 14,
   "id": "abe6b5dfa69e3c51",
   "metadata": {
    "ExecuteTime": {
     "end_time": "2024-12-15T10:50:03.881785Z",
     "start_time": "2024-12-15T10:49:57.575994Z"
    }
   },
   "outputs": [],
   "source": [
    "path = input(\"Provide raw file path: \")"
   ]
  },
  {
   "cell_type": "markdown",
   "id": "c30b7fd2a36cd6da",
   "metadata": {},
   "source": [
    "## Provide valid working directory"
   ]
  },
  {
   "cell_type": "code",
   "execution_count": 15,
   "id": "3c4af4400299927",
   "metadata": {
    "ExecuteTime": {
     "end_time": "2024-12-15T10:50:10.076648Z",
     "start_time": "2024-12-15T10:50:03.893533Z"
    }
   },
   "outputs": [],
   "source": [
    "new_cwd_path  = input(\"Provide working directory path: \")\n",
    "os.chdir(new_cwd_path)"
   ]
  },
  {
   "cell_type": "markdown",
   "id": "f689a6f12790a997",
   "metadata": {},
   "source": [
    "## Evaluate model"
   ]
  },
  {
   "cell_type": "code",
   "execution_count": 16,
   "id": "9b48f7a89453e3bd",
   "metadata": {
    "ExecuteTime": {
     "end_time": "2024-12-15T10:50:56.257216Z",
     "start_time": "2024-12-15T10:50:10.089440Z"
    }
   },
   "outputs": [
    {
     "name": "stdout",
     "output_type": "stream",
     "text": [
      "Validation loss: 0.43913106666877866.\n",
      "Measures:\n",
      "         TP        FP        FN        TN  Precision  Sensitivity  \\\n",
      "0  0.410557  0.020528  0.076246  0.492669   0.952379     0.843372   \n",
      "\n",
      "   Specificity       NPV   FPR  Accuracy   F-Score       IoU       MCC  \\\n",
      "0     0.959998  0.865978  0.04  0.903225  0.894566  0.809249  0.810829   \n",
      "\n",
      "        AUC        CI  \n",
      "0  0.901687  0.052641  \n"
     ]
    }
   ],
   "source": [
    "from models.Tools.Train.train_classifier import setup_dataloaders, setup_model, evaluate\n",
    "\n",
    "epochs = 15\n",
    "device = \"cuda\" if torch.cuda.is_available() else \"cpu\"\n",
    "lr = 1e-4\n",
    "\n",
    "train_dataloader, test_dataloader = setup_dataloaders(batch_size=16, train_type=DatasetType.TRAIN)\n",
    "model_handler = ModelFilesHandler()\n",
    "model = model_handler.load_raw_model(path)\n",
    "model, criterion, optimizer = setup_model(model, lr, device)\n",
    "\n",
    "measurer = MeasureToolFactory.get_measure_tool(ModelType.TRANSFORMER)\n",
    "measures = evaluate(criterion, device, model, test_dataloader, measurer)"
   ]
  },
  {
   "cell_type": "markdown",
   "id": "1a151959ad9bccbb",
   "metadata": {},
   "source": [
    "## Save model"
   ]
  },
  {
   "cell_type": "code",
   "execution_count": 17,
   "id": "4ff4a2a7a04f3d51",
   "metadata": {
    "ExecuteTime": {
     "end_time": "2024-12-15T10:50:56.762603Z",
     "start_time": "2024-12-15T10:50:56.328002Z"
    }
   },
   "outputs": [
    {
     "data": {
      "text/plain": [
       "'trained_models\\\\model_vit_2024_12_15_11_50_56.pickle'"
      ]
     },
     "execution_count": 17,
     "metadata": {},
     "output_type": "execute_result"
    }
   ],
   "source": [
    "model_handler.save_raw_model(model)\n",
    "model_handler.save_model(\n",
    "    model=model,\n",
    "    metrics = measures,\n",
    "    model_type=ModelType.VIT,\n",
    "    epoch=epochs,\n",
    ")"
   ]
  }
 ],
 "metadata": {
  "kernelspec": {
   "display_name": "Python 3 (ipykernel)",
   "language": "python",
   "name": "python3"
  },
  "language_info": {
   "codemirror_mode": {
    "name": "ipython",
    "version": 3
   },
   "file_extension": ".py",
   "mimetype": "text/x-python",
   "name": "python",
   "nbconvert_exporter": "python",
   "pygments_lexer": "ipython3",
   "version": "3.12.5"
  }
 },
 "nbformat": 4,
 "nbformat_minor": 5
}
