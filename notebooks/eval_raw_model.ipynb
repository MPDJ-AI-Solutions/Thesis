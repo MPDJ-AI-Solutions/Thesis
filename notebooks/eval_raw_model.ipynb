{
 "cells": [
  {
   "metadata": {},
   "cell_type": "markdown",
   "source": "## Setup environment",
   "id": "44a024e21f52cda5"
  },
  {
   "cell_type": "code",
   "id": "initial_id",
   "metadata": {
    "collapsed": true,
    "ExecuteTime": {
     "end_time": "2024-12-15T10:49:57.573807Z",
     "start_time": "2024-12-15T10:49:57.570195Z"
    }
   },
   "source": [
    "import os\n",
    "\n",
    "import torch\n",
    "from dataset.dataset_type import DatasetType\n",
    "from models.Tools.FilesHandler.model_files_handler import ModelFilesHandler\n",
    "from models.Tools.Measures.measure_tool_factory import MeasureToolFactory\n",
    "from models.Tools.Measures.model_type import ModelType"
   ],
   "outputs": [],
   "execution_count": 13
  },
  {
   "metadata": {},
   "cell_type": "markdown",
   "source": "## Provide file path",
   "id": "a9f762615e6971c6"
  },
  {
   "metadata": {
    "ExecuteTime": {
     "end_time": "2024-12-15T10:50:03.881785Z",
     "start_time": "2024-12-15T10:49:57.575994Z"
    }
   },
   "cell_type": "code",
   "source": "path = input(\"Provide raw file path: \")",
   "id": "abe6b5dfa69e3c51",
   "outputs": [],
   "execution_count": 14
  },
  {
   "metadata": {},
   "cell_type": "markdown",
   "source": "## Provide valid working directory",
   "id": "c30b7fd2a36cd6da"
  },
  {
   "metadata": {
    "ExecuteTime": {
     "end_time": "2024-12-15T10:50:10.076648Z",
     "start_time": "2024-12-15T10:50:03.893533Z"
    }
   },
   "cell_type": "code",
   "source": [
    "new_cwd_path  = input(\"Provide working directory path: \")\n",
    "os.chdir(new_cwd_path)"
   ],
   "id": "3c4af4400299927",
   "outputs": [],
   "execution_count": 15
  },
  {
   "metadata": {},
   "cell_type": "markdown",
   "source": "## Evaluate model",
   "id": "f689a6f12790a997"
  },
  {
   "metadata": {
    "ExecuteTime": {
     "end_time": "2024-12-15T10:50:56.257216Z",
     "start_time": "2024-12-15T10:50:10.089440Z"
    }
   },
   "cell_type": "code",
   "source": [
    "from models.Tools.Train.train_classifier import setup_dataloaders, setup_model, evaluate\n",
    "\n",
    "epochs = 15\n",
    "device = \"cuda\" if torch.cuda.is_available() else \"cpu\"\n",
    "lr = 1e-4\n",
    "\n",
    "train_dataloader, test_dataloader = setup_dataloaders(batch_size=16, train_type=DatasetType.TRAIN)\n",
    "model_handler = ModelFilesHandler()\n",
    "model = model_handler.load_raw_model(path)\n",
    "model, criterion, optimizer = setup_model(model, lr, device)\n",
    "\n",
    "measurer = MeasureToolFactory.get_measure_tool(ModelType.TRANSFORMER)\n",
    "measures = evaluate(criterion, device, model, test_dataloader, measurer)"
   ],
   "id": "9b48f7a89453e3bd",
   "outputs": [
    {
     "name": "stdout",
     "output_type": "stream",
     "text": [
      "Validation loss: 0.43913106666877866.\n",
      "Measures:\n",
      "         TP        FP        FN        TN  Precision  Sensitivity  \\\n",
      "0  0.410557  0.020528  0.076246  0.492669   0.952379     0.843372   \n",
      "\n",
      "   Specificity       NPV   FPR  Accuracy   F-Score       IoU       MCC  \\\n",
      "0     0.959998  0.865978  0.04  0.903225  0.894566  0.809249  0.810829   \n",
      "\n",
      "        AUC        CI  \n",
      "0  0.901687  0.052641  \n"
     ]
    }
   ],
   "execution_count": 16
  },
  {
   "metadata": {},
   "cell_type": "markdown",
   "source": "## Save model",
   "id": "1a151959ad9bccbb"
  },
  {
   "metadata": {
    "ExecuteTime": {
     "end_time": "2024-12-15T10:50:56.762603Z",
     "start_time": "2024-12-15T10:50:56.328002Z"
    }
   },
   "cell_type": "code",
   "source": [
    "model_handler.save_raw_model(model)\n",
    "model_handler.save_model(\n",
    "    model=model,\n",
    "    metrics = measures,\n",
    "    model_type=ModelType.VIT,\n",
    "    epoch=epochs,\n",
    ")"
   ],
   "id": "4ff4a2a7a04f3d51",
   "outputs": [
    {
     "data": {
      "text/plain": [
       "'trained_models\\\\model_vit_2024_12_15_11_50_56.pickle'"
      ]
     },
     "execution_count": 17,
     "metadata": {},
     "output_type": "execute_result"
    }
   ],
   "execution_count": 17
  }
 ],
 "metadata": {
  "kernelspec": {
   "display_name": "Python 3",
   "language": "python",
   "name": "python3"
  },
  "language_info": {
   "codemirror_mode": {
    "name": "ipython",
    "version": 2
   },
   "file_extension": ".py",
   "mimetype": "text/x-python",
   "name": "python",
   "nbconvert_exporter": "python",
   "pygments_lexer": "ipython2",
   "version": "2.7.6"
  }
 },
 "nbformat": 4,
 "nbformat_minor": 5
}
