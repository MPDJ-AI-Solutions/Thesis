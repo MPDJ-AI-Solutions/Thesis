{
 "cells": [
  {
   "cell_type": "markdown",
   "id": "2d4fcc0822182cf5",
   "metadata": {},
   "source": [
    "# Introduction\n",
    "This notebook's purpose is to show ROC(receiver operating characteristic) curve for each of our models."
   ]
  },
  {
   "cell_type": "markdown",
   "id": "2746b8bd69693554",
   "metadata": {},
   "source": [
    "## Prepare environment"
   ]
  },
  {
   "cell_type": "code",
   "execution_count": 1,
   "id": "initial_id",
   "metadata": {
    "ExecuteTime": {
     "end_time": "2025-01-04T14:54:31.749091Z",
     "start_time": "2025-01-04T14:54:29.039296Z"
    }
   },
   "outputs": [],
   "source": [
    "import os\n",
    "os.chdir(r\"../..\")\n",
    "\n",
    "import numpy as np\n",
    "import torch\n",
    "import pandas as pd\n",
    "\n",
    "from typing import Type\n",
    "from matplotlib import pyplot as plt\n",
    "from torch.utils.data import Dataset\n",
    "from torch.utils.data import DataLoader\n",
    "from sklearn.metrics import roc_curve, auc\n",
    "\n",
    "from dataset.dataset_type import DatasetType\n",
    "from dataset.dataset_info import DatasetInfo, MMClassifierDatasetInfo\n",
    "from files_handler.model_files_handler import ModelFilesHandler\n",
    "\n",
    "device = \"cuda\" if torch.cuda.is_available() else \"cpu\""
   ]
  },
  {
   "cell_type": "markdown",
   "id": "1fd7081ed754eeee",
   "metadata": {},
   "source": [
    "## Prepare dataset class"
   ]
  },
  {
   "cell_type": "code",
   "execution_count": 2,
   "id": "d80301cd7c1b25a4",
   "metadata": {
    "ExecuteTime": {
     "end_time": "2025-01-04T14:54:31.756621Z",
     "start_time": "2025-01-04T14:54:31.752096Z"
    }
   },
   "outputs": [],
   "source": [
    "class STARCOPDataset(Dataset):\n",
    "    def __init__(\n",
    "            self,\n",
    "            data_path: str,\n",
    "            data_type: DatasetType,\n",
    "            image_info_class: Type[DatasetInfo],\n",
    "            crop_size: int = 1,\n",
    "    ):\n",
    "        self.images_path = os.path.join(data_path, data_type.get_folder_name(), data_type.get_folder_name())\n",
    "        self.image_info = image_info_class\n",
    "        self.csv = pd.read_csv(os.path.join(data_path, data_type.value + \".csv\"))\n",
    "        self.crop_size = crop_size\n",
    "\n",
    "    def __len__(self):\n",
    "        return len(self.csv) * (self.crop_size * self.crop_size)\n",
    "\n",
    "    def __getitem__(self, index):\n",
    "        return self._get_raw_item(index)\n",
    "\n",
    "    def _get_raw_item(self, index):\n",
    "        file_index = index // (self.crop_size * self.crop_size)\n",
    "        images_directory_path = os.path.join(self.images_path, self.csv[\"id\"][file_index])\n",
    "\n",
    "        return self.image_info.load_tensor(\n",
    "            images_directory_path,\n",
    "            grid_id=index % (self.crop_size * self.crop_size),\n",
    "            crop_size=self.crop_size\n",
    "        )"
   ]
  },
  {
   "cell_type": "markdown",
   "id": "50d6490c2460b304",
   "metadata": {},
   "source": [
    "## Create dataloaders"
   ]
  },
  {
   "cell_type": "code",
   "execution_count": 3,
   "id": "e2a5aef07d688f98",
   "metadata": {
    "ExecuteTime": {
     "end_time": "2025-01-04T14:54:31.865205Z",
     "start_time": "2025-01-04T14:54:31.858390Z"
    }
   },
   "outputs": [],
   "source": [
    "dataset = STARCOPDataset(\n",
    "    data_path=r\"data\",\n",
    "    data_type=DatasetType.TEST,\n",
    "    image_info_class=MMClassifierDatasetInfo,\n",
    ")\n",
    "\n",
    "dataloader = DataLoader(dataset, batch_size=1, shuffle=False)\n",
    "model_handler = ModelFilesHandler()"
   ]
  },
  {
   "cell_type": "markdown",
   "id": "956a585efd0f8b99",
   "metadata": {},
   "source": [
    "## Compute probabilities for CNN"
   ]
  },
  {
   "cell_type": "code",
   "execution_count": 4,
   "id": "1c232b5d10345ea2",
   "metadata": {
    "ExecuteTime": {
     "end_time": "2025-01-04T14:55:01.098102Z",
     "start_time": "2025-01-04T14:54:31.875114Z"
    }
   },
   "outputs": [],
   "source": [
    "file_name = r\"best_models\\CNN\\model_cnn_2024_12_14_13_20_07.pickle\"\n",
    "cnn_model, _, _, _ = model_handler.load_model(file_name=file_name)\n",
    "\n",
    "cnn_model.eval()\n",
    "cnn_model.to(device)\n",
    "\n",
    "cnn_probabilities = []\n",
    "all_labels = []\n",
    "for id, image in enumerate(dataloader):\n",
    "    (tensor_AVIRIS, tensor_mag1c, filtered_image, label) = image\n",
    "    input_image = torch.cat((tensor_AVIRIS, tensor_mag1c), dim=1).to(device)\n",
    "    labels = label.long().to(device)\n",
    "\n",
    "    outputs = cnn_model(input_image)\n",
    "    processed_outputs = torch.softmax(outputs, dim=1).cpu().detach().numpy()\n",
    "    cnn_probabilities.extend(processed_outputs[:, 1].tolist())\n",
    "    all_labels.extend(label.numpy().tolist())\n",
    "\n",
    "cnn_model = cnn_model.to(\"cpu\")"
   ]
  },
  {
   "cell_type": "markdown",
   "id": "3cc067206938b792",
   "metadata": {},
   "source": [
    "## Compute probabilities for DETR"
   ]
  },
  {
   "cell_type": "code",
   "execution_count": 5,
   "id": "ae5b70de9c6fa1d9",
   "metadata": {
    "ExecuteTime": {
     "end_time": "2025-01-04T14:55:24.489912Z",
     "start_time": "2025-01-04T14:55:01.189233Z"
    }
   },
   "outputs": [
    {
     "name": "stderr",
     "output_type": "stream",
     "text": [
      "D:\\Projects\\studia\\polsl_ssi_1\\MethaneDetection\\Thesis\\.venv\\Lib\\site-packages\\tqdm\\auto.py:21: TqdmWarning: IProgress not found. Please update jupyter and ipywidgets. See https://ipywidgets.readthedocs.io/en/stable/user_install.html\n",
      "  from .autonotebook import tqdm as notebook_tqdm\n"
     ]
    }
   ],
   "source": [
    "file_name = r\"best_models\\DETR\\model_detr_2024_12_15_11_35_17.pickle\"\n",
    "detr_model, _, _, _ = model_handler.load_model(file_name=file_name)\n",
    "\n",
    "detr_model.eval()\n",
    "detr_model.to(device)\n",
    "\n",
    "detr_probabilities = []\n",
    "for id, image in enumerate(dataloader):\n",
    "    (tensor_AVIRIS, tensor_mag1c, filtered_image, label) = image\n",
    "    input_image = torch.cat((tensor_AVIRIS, tensor_mag1c), dim=1).to(device)\n",
    "    labels = label.long().to(device)\n",
    "\n",
    "    outputs = detr_model(input_image)\n",
    "    processed_outputs = torch.softmax(outputs, dim=1).cpu().detach().numpy()\n",
    "    detr_probabilities.extend(processed_outputs[:, 1].tolist())\n",
    "\n",
    "detr_model = detr_model.to(\"cpu\")"
   ]
  },
  {
   "cell_type": "markdown",
   "id": "c3c8b0b849bc6b02",
   "metadata": {},
   "source": [
    "## Compute probabilities for Methane Mapper"
   ]
  },
  {
   "cell_type": "code",
   "execution_count": null,
   "id": "9198e5315c0e3712",
   "metadata": {
    "ExecuteTime": {
     "end_time": "2025-01-04T14:55:49.649154Z",
     "start_time": "2025-01-04T14:55:24.510597Z"
    }
   },
   "outputs": [],
   "source": [
    "file_name = r\"best_models\\MethaneMapper\\model_transformer_classifier_2024_12_02_00_37_54.pickle\"\n",
    "mm_model, _, _, _ = model_handler.load_model(file_name=file_name)\n",
    "\n",
    "mm_model.eval()\n",
    "mm_model.to(device)\n",
    "\n",
    "mm_probabilities = []\n",
    "for id, image in enumerate(dataloader):\n",
    "    (tensor_AVIRIS, tensor_mag1c, filtered_image, label) = image\n",
    "    input_image = torch.cat((tensor_AVIRIS, tensor_mag1c), dim=1).to(device)\n",
    "    filtered_image = filtered_image.to(device)\n",
    "    labels = label.long().to(device)\n",
    "\n",
    "    outputs = mm_model(input_image, filtered_image)\n",
    "    processed_outputs = torch.softmax(outputs, dim=1).cpu().detach().numpy()\n",
    "    mm_probabilities.extend(processed_outputs[:, 1].tolist())\n",
    "\n",
    "mm_model = mm_model.to(\"cpu\")"
   ]
  },
  {
   "cell_type": "markdown",
   "id": "872d5a1a66fafa93",
   "metadata": {},
   "source": [
    "## Compute probabilities for ViT"
   ]
  },
  {
   "cell_type": "code",
   "execution_count": null,
   "id": "d8fd52201ac547d9",
   "metadata": {
    "ExecuteTime": {
     "end_time": "2025-01-04T14:56:06.573695Z",
     "start_time": "2025-01-04T14:55:49.671068Z"
    }
   },
   "outputs": [],
   "source": [
    "file_name = r\"best_models\\VIT\\model_vit_2024_12_15_11_50_56.pickle\"\n",
    "vit_model, _, _, _ = model_handler.load_model(file_name=file_name)\n",
    "\n",
    "vit_model.eval()\n",
    "vit_model.to(device)\n",
    "\n",
    "vit_probabilities = []\n",
    "for id, image in enumerate(dataloader):\n",
    "    (tensor_AVIRIS, tensor_mag1c, filtered_image, label) = image\n",
    "    input_image = torch.cat((tensor_AVIRIS, tensor_mag1c), dim=1).to(device)\n",
    "    labels = label.long().to(device)\n",
    "\n",
    "    outputs = vit_model(input_image)\n",
    "    processed_outputs = torch.softmax(outputs, dim=1).cpu().detach().numpy()\n",
    "    vit_probabilities.extend(processed_outputs[:, 1].tolist())\n",
    "\n",
    "vit_model = vit_model.to(\"cpu\")"
   ]
  },
  {
   "cell_type": "markdown",
   "id": "7ac0358bf6db7382",
   "metadata": {},
   "source": [
    "## Function for plotting ROC curve\n"
   ]
  },
  {
   "cell_type": "code",
   "execution_count": null,
   "id": "1626078eea621d3d",
   "metadata": {
    "ExecuteTime": {
     "end_time": "2025-01-04T14:56:06.600336Z",
     "start_time": "2025-01-04T14:56:06.596768Z"
    }
   },
   "outputs": [],
   "source": [
    "def show_roc_curve(labels, probabilities, filename):\n",
    "    fpr, tpr, thresholds = roc_curve(labels, probabilities)\n",
    "    roc_auc = auc(fpr, tpr)\n",
    "\n",
    "    plt.rcParams[\"font.size\"] = 40\n",
    "    plt.rcParams[\"font.family\"] = 'Times New Roman'\n",
    "    plt.figure(figsize=(16, 12))\n",
    "\n",
    "    plt.plot(fpr, tpr, color='orange', lw=3, label=f\"ROC curve (AUC = {roc_auc:.2f})\")\n",
    "    plt.plot([0, 1], [0, 1], color='blue', lw=1, linestyle='--', label=\"Random guess\")\n",
    "\n",
    "    plt.xlabel(\"False Positive Rate (FPR)\")\n",
    "    plt.ylabel(\"True Positive Rate (TPR)\")\n",
    "    plt.legend(loc=\"lower right\")\n",
    "    plt.grid(True)\n",
    "    plt.savefig(filename)\n",
    "    plt.show()"
   ]
  },
  {
   "cell_type": "markdown",
   "id": "ef2e170f-a80b-4682-b8e8-6b72d387804e",
   "metadata": {},
   "source": [
    "## Restore environment"
   ]
  },
  {
   "cell_type": "code",
   "execution_count": null,
   "id": "aecf6b39c87fd74f",
   "metadata": {
    "ExecuteTime": {
     "end_time": "2025-01-04T14:56:06.625888Z",
     "start_time": "2025-01-04T14:56:06.622916Z"
    }
   },
   "outputs": [],
   "source": [
    "os.chdir(r\".\\notebooks\\experiments\")"
   ]
  },
  {
   "cell_type": "markdown",
   "id": "7e1de527fe80ffa4",
   "metadata": {},
   "source": [
    "## CNN ROC"
   ]
  },
  {
   "cell_type": "code",
   "execution_count": null,
   "id": "5c76c989c935d389",
   "metadata": {
    "ExecuteTime": {
     "end_time": "2025-01-04T14:56:06.926917Z",
     "start_time": "2025-01-04T14:56:06.648261Z"
    }
   },
   "outputs": [],
   "source": [
    "show_roc_curve(all_labels, cnn_probabilities, \"CNN_roc.png\")"
   ]
  },
  {
   "cell_type": "markdown",
   "id": "2220ce196404476",
   "metadata": {},
   "source": [
    "## DETR ROC"
   ]
  },
  {
   "cell_type": "code",
   "execution_count": null,
   "id": "79c77fc62d164c6d",
   "metadata": {
    "ExecuteTime": {
     "end_time": "2025-01-04T14:56:07.135158Z",
     "start_time": "2025-01-04T14:56:06.949865Z"
    }
   },
   "outputs": [],
   "source": [
    "show_roc_curve(all_labels, detr_probabilities, \"DETR_roc.png\")"
   ]
  },
  {
   "cell_type": "markdown",
   "id": "7ad82d5d722ffbe3",
   "metadata": {},
   "source": [
    "## Methane Mapper ROC"
   ]
  },
  {
   "cell_type": "code",
   "execution_count": null,
   "id": "28e2c99bddb9823e",
   "metadata": {
    "ExecuteTime": {
     "end_time": "2025-01-04T14:56:07.346212Z",
     "start_time": "2025-01-04T14:56:07.156460Z"
    }
   },
   "outputs": [],
   "source": [
    "show_roc_curve(all_labels, mm_probabilities, \"MM_roc.png\")"
   ]
  },
  {
   "cell_type": "markdown",
   "id": "7ff2ebcae14c658",
   "metadata": {},
   "source": [
    "## ViT ROC"
   ]
  },
  {
   "cell_type": "code",
   "execution_count": null,
   "id": "71c443ba61376669",
   "metadata": {
    "ExecuteTime": {
     "end_time": "2025-01-04T14:56:07.566689Z",
     "start_time": "2025-01-04T14:56:07.377772Z"
    }
   },
   "outputs": [],
   "source": [
    "show_roc_curve(all_labels, vit_probabilities, \"ViT_roc.png\")"
   ]
  },
  {
   "cell_type": "markdown",
   "id": "6c3778d2d9ffb82a",
   "metadata": {},
   "source": [
    "## Classifier Committee ROC"
   ]
  },
  {
   "cell_type": "code",
   "execution_count": null,
   "id": "19f512e3b7f18391",
   "metadata": {
    "ExecuteTime": {
     "end_time": "2025-01-04T14:56:07.778480Z",
     "start_time": "2025-01-04T14:56:07.590903Z"
    }
   },
   "outputs": [],
   "source": [
    "all_probabilities = np.array(cnn_probabilities) + np.array(detr_probabilities) + np.array(mm_probabilities)+ np.array(vit_probabilities)\n",
    "all_probabilities = (all_probabilities/4).tolist()\n",
    "show_roc_curve(all_labels, all_probabilities, \"classifier_committee_roc.png\")"
   ]
  },
  {
   "cell_type": "markdown",
   "id": "9d655f7b6295e514",
   "metadata": {},
   "source": [
    "## Merged ROC"
   ]
  },
  {
   "cell_type": "code",
   "execution_count": null,
   "id": "c918cd93cd0b1de9",
   "metadata": {
    "ExecuteTime": {
     "end_time": "2025-01-04T14:56:08.020675Z",
     "start_time": "2025-01-04T14:56:07.800207Z"
    }
   },
   "outputs": [],
   "source": [
    "def add_roc_curve(labels, probabilities, color, model_name):\n",
    "    fpr, tpr, thresholds = roc_curve(labels, probabilities)\n",
    "    roc_auc = auc(fpr, tpr)\n",
    "    plt.plot(fpr, tpr, color=color, lw=3, label=f\"{model_name} ROC (AUC = {roc_auc:.2f})\")\n",
    "\n",
    "plt.rcParams[\"font.size\"] = 40\n",
    "plt.rcParams[\"font.family\"] = 'Times New Roman'\n",
    "plt.figure(figsize=(16, 12))\n",
    "\n",
    "add_roc_curve(all_labels, all_probabilities,  \"orange\",   \"Classifier Committee\")\n",
    "add_roc_curve(all_labels, cnn_probabilities,  \"green\", \"CNN\")\n",
    "add_roc_curve(all_labels, detr_probabilities, \"red\",  \"DETR\")\n",
    "add_roc_curve(all_labels, mm_probabilities,   \"blue\",   \"Methane Mapper\")\n",
    "add_roc_curve(all_labels, vit_probabilities,  \"violet\",  \"ViT\")\n",
    "\n",
    "plt.plot([0, 1], [0, 1], color='blue', lw=1, linestyle='--', label=\"Random guess\")\n",
    "plt.xlabel(\"False Positive Rate (FPR)\")\n",
    "plt.ylabel(\"True Positive Rate (TPR)\")\n",
    "plt.legend(loc=\"lower right\", fontsize=26)\n",
    "plt.grid(True)\n",
    "plt.savefig(\"merged_roc.png\")\n",
    "plt.show()"
   ]
  }
 ],
 "metadata": {
  "kernelspec": {
   "display_name": "Python 3 (ipykernel)",
   "language": "python",
   "name": "python3"
  },
  "language_info": {
   "codemirror_mode": {
    "name": "ipython",
    "version": 3
   },
   "file_extension": ".py",
   "mimetype": "text/x-python",
   "name": "python",
   "nbconvert_exporter": "python",
   "pygments_lexer": "ipython3",
   "version": "3.12.8"
  }
 },
 "nbformat": 4,
 "nbformat_minor": 5
}
