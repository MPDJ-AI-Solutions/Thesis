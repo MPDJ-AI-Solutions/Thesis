{
 "cells": [
  {
   "cell_type": "markdown",
   "id": "93c573c53c9c6696",
   "metadata": {},
   "source": [
    "# Introduction\n",
    "\n",
    "The following notebook shows our work on the classifier committee, which connects created models in order to get even better results."
   ]
  },
  {
   "metadata": {},
   "cell_type": "markdown",
   "source": "## Prepare Environment",
   "id": "1b2b38c6f21d9e78"
  },
  {
   "cell_type": "code",
   "id": "initial_id",
   "metadata": {
    "ExecuteTime": {
     "end_time": "2025-01-03T22:20:26.135993Z",
     "start_time": "2025-01-03T22:20:26.132400Z"
    }
   },
   "source": [
    "import os\n",
    "import torch\n",
    "import pandas as pd\n",
    "\n",
    "from matplotlib import pyplot as plt\n",
    "from sklearn.metrics import roc_curve, auc\n",
    "from torch.utils.data import DataLoader\n",
    "\n",
    "from measures import ModelType\n",
    "from measures import MeasureToolFactory\n",
    "from dataset.dataset_info import ClassifierDatasetInfo, MMClassifierDatasetInfo\n",
    "from dataset.dataset_type import DatasetType\n",
    "from dataset.STARCOP_dataset import STARCOPDataset\n",
    "from files_handler import ModelFilesHandler\n",
    "\n",
    "os.chdir(r\"../..\")\n",
    "device = \"cuda\" if torch.cuda.is_available() else \"cpu\""
   ],
   "outputs": [],
   "execution_count": 4
  },
  {
   "metadata": {},
   "cell_type": "markdown",
   "source": "## Prepare dataloaders",
   "id": "727a9b296f581c9"
  },
  {
   "metadata": {
    "ExecuteTime": {
     "end_time": "2025-01-03T22:20:26.146677Z",
     "start_time": "2025-01-03T22:20:26.138998Z"
    }
   },
   "cell_type": "code",
   "source": [
    "dataset = STARCOPDataset(\n",
    "    data_path=r\"data\",\n",
    "    data_type=DatasetType.TEST,\n",
    "    image_info_class=ClassifierDatasetInfo,\n",
    "    normalization=False\n",
    ")\n",
    "dataloader = DataLoader(dataset, batch_size=6, shuffle=False)\n",
    "\n",
    "mm_dataset = STARCOPDataset(\n",
    "    data_path=r\"data\",\n",
    "    data_type=DatasetType.TEST,\n",
    "    image_info_class=MMClassifierDatasetInfo,\n",
    "    normalization=False\n",
    ")\n",
    "mm_dataloader = DataLoader(mm_dataset, batch_size=6, shuffle=False)\n",
    "\n",
    "model_handler = ModelFilesHandler()"
   ],
   "id": "12568cc54a5361a7",
   "outputs": [],
   "execution_count": 5
  },
  {
   "metadata": {},
   "cell_type": "markdown",
   "source": "## CNN",
   "id": "25f415126fe8d2e1"
  },
  {
   "metadata": {
    "ExecuteTime": {
     "end_time": "2025-01-03T22:20:41.015189Z",
     "start_time": "2025-01-03T22:20:26.196160Z"
    }
   },
   "cell_type": "code",
   "source": [
    "file_name = r\"best_models\\CNN\\model_cnn_2024_12_14_13_20_07.pickle\"\n",
    "model, _, _, _ = model_handler.load_model(file_name=file_name)\n",
    "\n",
    "model.eval()\n",
    "model.to(device)\n",
    "\n",
    "current_labels = []\n",
    "current_predictions = []\n",
    "current_probabilities = []\n",
    "for batch_id, (images, mag1c, labels) in enumerate(dataloader):\n",
    "    input_image = torch.cat((images, mag1c), dim=1).to(device)\n",
    "    labels = labels.long().to(device)\n",
    "\n",
    "    outputs = model(input_image)\n",
    "    probabilities = torch.softmax(outputs, dim=1)[:, 1]\n",
    "    predictions = torch.argmax(outputs, dim=1)\n",
    "\n",
    "    current_labels.append(labels.cpu().detach())\n",
    "    current_predictions.append(predictions.cpu().detach())\n",
    "    current_probabilities.append(probabilities.cpu().detach())\n",
    "\n",
    "model.to(\"cpu\")\n",
    "all_labels = torch.cat(current_labels)\n",
    "all_predictions = torch.cat(current_predictions)\n",
    "all_probabilities = torch.cat(current_probabilities)\n",
    "print(\"CNN finished.\")"
   ],
   "id": "1fd6f716f0b44ac8",
   "outputs": [
    {
     "name": "stdout",
     "output_type": "stream",
     "text": [
      "CNN finished.\n"
     ]
    }
   ],
   "execution_count": 6
  },
  {
   "cell_type": "markdown",
   "id": "703b3e3e5f8d817e",
   "metadata": {},
   "source": [
    "## DETR"
   ]
  },
  {
   "cell_type": "code",
   "id": "bcdcaaf932df56a1",
   "metadata": {
    "ExecuteTime": {
     "end_time": "2025-01-03T22:20:58.496643Z",
     "start_time": "2025-01-03T22:20:41.067628Z"
    }
   },
   "source": [
    "file_name = r\"best_models\\DETR\\model_detr_2024_12_15_11_35_17.pickle\"\n",
    "model, _, _, _ = model_handler.load_model(file_name=file_name)\n",
    "\n",
    "model.eval()\n",
    "model.to(device)\n",
    "\n",
    "current_predictions = []\n",
    "current_probabilities = []\n",
    "for batch_id, (images, mag1c, labels) in enumerate(dataloader):\n",
    "    input_image = torch.cat((images, mag1c), dim=1).to(device)\n",
    "    labels = labels.long().to(device)\n",
    "\n",
    "    outputs = model(input_image)\n",
    "    probabilities = torch.softmax(outputs, dim=1)[:, 1]\n",
    "    predictions = torch.argmax(outputs, dim=1)\n",
    "\n",
    "    current_predictions.append(predictions.cpu().detach())\n",
    "    current_probabilities.append(probabilities.cpu().detach())\n",
    "\n",
    "model.to(\"cpu\")\n",
    "all_predictions = torch.add(all_predictions, torch.cat(current_predictions))\n",
    "all_probabilities = torch.add(all_probabilities, torch.cat(current_probabilities))\n",
    "print(\"DETR finished.\")"
   ],
   "outputs": [
    {
     "name": "stderr",
     "output_type": "stream",
     "text": [
      "D:\\Projects\\studia\\polsl_ssi_1\\MethaneDetection\\Thesis\\.venv\\Lib\\site-packages\\tqdm\\auto.py:21: TqdmWarning: IProgress not found. Please update jupyter and ipywidgets. See https://ipywidgets.readthedocs.io/en/stable/user_install.html\n",
      "  from .autonotebook import tqdm as notebook_tqdm\n"
     ]
    },
    {
     "name": "stdout",
     "output_type": "stream",
     "text": [
      "DETR finished.\n"
     ]
    }
   ],
   "execution_count": 7
  },
  {
   "cell_type": "markdown",
   "id": "c316d988227aaab3",
   "metadata": {},
   "source": [
    "## MethaneMapper"
   ]
  },
  {
   "cell_type": "code",
   "id": "682b41e41a5eb3e4",
   "metadata": {
    "ExecuteTime": {
     "end_time": "2025-01-03T22:23:56.111694Z",
     "start_time": "2025-01-03T22:20:58.549217Z"
    }
   },
   "source": [
    "file_name = r\"best_models\\MethaneMapper\\model_transformer_classifier_2024_12_02_00_37_54.pickle\"\n",
    "model, _, _, _ = model_handler.load_model(file_name=file_name)\n",
    "\n",
    "model.eval()\n",
    "model.to(device)\n",
    "\n",
    "current_predictions = []\n",
    "current_probabilities = []\n",
    "for batch_id, (images, mag1c, filtered_image, labels) in enumerate(mm_dataloader):\n",
    "    input_image = torch.cat((images, mag1c), dim=1).to(device)\n",
    "    filtered_image = filtered_image.to(device)\n",
    "    labels = labels.long().to(device)\n",
    "\n",
    "    outputs = model(input_image, filtered_image)\n",
    "    probabilities = torch.softmax(outputs, dim=1)[:, 1]\n",
    "    predictions = torch.argmax(outputs, dim=1)\n",
    "\n",
    "    current_predictions.append(predictions.cpu().detach())\n",
    "    current_probabilities.append(probabilities.cpu().detach())\n",
    "\n",
    "model.to(\"cpu\")\n",
    "all_predictions = torch.add(all_predictions, torch.cat(current_predictions))\n",
    "all_probabilities = torch.add(all_probabilities, torch.cat(current_probabilities))\n",
    "print(\"Methane mapper finished.\")"
   ],
   "outputs": [
    {
     "name": "stdout",
     "output_type": "stream",
     "text": [
      "Methane mapper finished.\n"
     ]
    }
   ],
   "execution_count": 8
  },
  {
   "cell_type": "markdown",
   "id": "b03b003bd987fb21",
   "metadata": {},
   "source": [
    "## ViT"
   ]
  },
  {
   "cell_type": "code",
   "id": "dc50cc71e62c9eeb",
   "metadata": {
    "ExecuteTime": {
     "end_time": "2025-01-03T22:24:36.919951Z",
     "start_time": "2025-01-03T22:23:56.232656Z"
    }
   },
   "source": [
    "file_name = r\"best_models\\VIT\\model_vit_2024_12_15_11_50_56.pickle\"\n",
    "model, _, _, _ = model_handler.load_model(file_name=file_name)\n",
    "\n",
    "model.eval()\n",
    "model.to(device)\n",
    "\n",
    "current_predictions = []\n",
    "current_probabilities = []\n",
    "for batch_id, (images, mag1c, labels) in enumerate(dataloader):\n",
    "    input_image = torch.cat((images, mag1c), dim=1).to(device)\n",
    "    labels = labels.long().to(device)\n",
    "\n",
    "    outputs = model(input_image)\n",
    "    probabilities = torch.softmax(outputs, dim=1)[:, 1]\n",
    "    predictions = torch.argmax(outputs, dim=1)\n",
    "\n",
    "    current_predictions.append(predictions.cpu().detach())\n",
    "    current_probabilities.append(probabilities.cpu().detach())\n",
    "\n",
    "model.to(\"cpu\")\n",
    "all_predictions = torch.add(all_predictions, torch.cat(current_predictions))\n",
    "all_probabilities = torch.add(all_probabilities, torch.cat(current_probabilities))\n",
    "print(\"VIT finished.\")"
   ],
   "outputs": [
    {
     "name": "stdout",
     "output_type": "stream",
     "text": [
      "VIT finished.\n"
     ]
    }
   ],
   "execution_count": 9
  },
  {
   "cell_type": "markdown",
   "id": "c14afdedca22c7c7",
   "metadata": {},
   "source": [
    "## Prepare conclusions"
   ]
  },
  {
   "cell_type": "code",
   "id": "64f25772d5a55f9c",
   "metadata": {
    "ExecuteTime": {
     "end_time": "2025-01-03T22:24:36.928956Z",
     "start_time": "2025-01-03T22:24:36.921956Z"
    }
   },
   "source": [
    "csv_path = r\"notebooks/experiments/classifier_committee_measures.csv\"\n",
    "measurer = MeasureToolFactory.get_measure_tool(ModelType.TRANSFORMER)\n",
    "labels = all_labels[:]\n",
    "\n",
    "columns = [\n",
    "    'conclusion_type','tp', 'fp', 'fn', 'tn', 'precision', 'sensitivity',\n",
    "    'specificity', 'npv', 'fpr', 'accuracy', 'fscore', 'iou', 'mcc', 'auc', 'ci',\n",
    "]\n",
    "\n",
    "df = pd.DataFrame(columns=columns)\n",
    "df.to_csv(csv_path, index=False)\n",
    "\n",
    "def measure_and_save(min_detections):\n",
    "    pred = torch.Tensor([int(x >= min_detections) for x in all_predictions])\n",
    "    measures = measurer.compute_measures(pred, labels)\n",
    "    print(measures)\n",
    "\n",
    "    conclusion_info = f\"at least {min_detections} detection{\"s\" if min_detections > 1 else \"\"}\"\n",
    "    measure_info = pd.DataFrame.from_dict({\"conculsion_type\":[conclusion_info]})\n",
    "\n",
    "    row = pd.concat([measure_info, measures], axis=1)\n",
    "    row.to_csv(csv_path, mode='a', index=False, header=False)"
   ],
   "outputs": [],
   "execution_count": 10
  },
  {
   "cell_type": "markdown",
   "id": "aa528cda6b0582fc",
   "metadata": {},
   "source": [
    "## Conclusion - at least 1 detection"
   ]
  },
  {
   "cell_type": "code",
   "id": "98ffac523c611083",
   "metadata": {
    "ExecuteTime": {
     "end_time": "2025-01-03T22:24:36.994907Z",
     "start_time": "2025-01-03T22:24:36.985228Z"
    }
   },
   "source": [
    "measure_and_save(min_detections=1)"
   ],
   "outputs": [
    {
     "name": "stdout",
     "output_type": "stream",
     "text": [
      "        TP        FP        FN        TN  Precision  Sensitivity  Specificity  \\\n",
      "0  0.48538  0.049708  0.002924  0.461988   0.907102      0.99401     0.902855   \n",
      "\n",
      "        NPV       FPR  Accuracy   F-Score       IoU       MCC       AUC  \\\n",
      "0  0.993709  0.097143  0.947367  0.948569  0.902174  0.898836  0.948435   \n",
      "\n",
      "         CI  \n",
      "0  0.052939  \n"
     ]
    }
   ],
   "execution_count": 11
  },
  {
   "cell_type": "markdown",
   "id": "8f39abb4c2645042",
   "metadata": {},
   "source": [
    "## Conclusion - at least 2 detections"
   ]
  },
  {
   "cell_type": "code",
   "id": "f2f54cd26e3f5c14",
   "metadata": {
    "ExecuteTime": {
     "end_time": "2025-01-03T22:24:37.055546Z",
     "start_time": "2025-01-03T22:24:37.045977Z"
    }
   },
   "source": [
    "measure_and_save(min_detections=2)\n"
   ],
   "outputs": [
    {
     "name": "stdout",
     "output_type": "stream",
     "text": [
      "         TP        FP        FN        TN  Precision  Sensitivity  \\\n",
      "0  0.464912  0.002924  0.023392  0.508772   0.993748     0.952094   \n",
      "\n",
      "   Specificity       NPV       FPR  Accuracy   F-Score       IoU       MCC  \\\n",
      "0     0.994284  0.956042  0.005714  0.973683  0.972475  0.946429  0.948082   \n",
      "\n",
      "        AUC       CI  \n",
      "0  0.973191  0.05296  \n"
     ]
    }
   ],
   "execution_count": 12
  },
  {
   "cell_type": "markdown",
   "id": "94765c1081539137",
   "metadata": {},
   "source": [
    "## Conclusion - at least 3 detections"
   ]
  },
  {
   "cell_type": "code",
   "id": "3444c903677355e3",
   "metadata": {
    "ExecuteTime": {
     "end_time": "2025-01-03T22:24:37.116028Z",
     "start_time": "2025-01-03T22:24:37.108011Z"
    }
   },
   "source": [
    "measure_and_save(min_detections=3)\n"
   ],
   "outputs": [
    {
     "name": "stdout",
     "output_type": "stream",
     "text": [
      "         TP   FP        FN        TN  Precision  Sensitivity  Specificity  \\\n",
      "0  0.418129  0.0  0.070175  0.511696   0.999998     0.856286     0.999998   \n",
      "\n",
      "        NPV  FPR  Accuracy   F-Score       IoU       MCC       AUC        CI  \n",
      "0  0.879395  0.0  0.929824  0.922578  0.856287  0.867762  0.928144  0.052354  \n"
     ]
    }
   ],
   "execution_count": 13
  },
  {
   "cell_type": "markdown",
   "id": "2c49b7ea0f5ccc95",
   "metadata": {},
   "source": [
    "## Conclusion - at least 4 detections"
   ]
  },
  {
   "cell_type": "code",
   "id": "9da69dc01bbff017",
   "metadata": {
    "ExecuteTime": {
     "end_time": "2025-01-03T22:24:37.180506Z",
     "start_time": "2025-01-03T22:24:37.170876Z"
    }
   },
   "source": [
    "measure_and_save(min_detections=4)"
   ],
   "outputs": [
    {
     "name": "stdout",
     "output_type": "stream",
     "text": [
      "         TP   FP        FN        TN  Precision  Sensitivity  Specificity  \\\n",
      "0  0.298246  0.0  0.190058  0.511696   0.999997     0.610777     0.999998   \n",
      "\n",
      "        NPV  FPR  Accuracy   F-Score       IoU      MCC       AUC        CI  \n",
      "0  0.729166  0.0  0.809941  0.758362  0.610778  0.66735  0.805389  0.048558  \n"
     ]
    }
   ],
   "execution_count": 14
  },
  {
   "metadata": {},
   "cell_type": "markdown",
   "source": "## Create ROC curve",
   "id": "4f6ea32fec7b8408"
  },
  {
   "metadata": {
    "ExecuteTime": {
     "end_time": "2025-01-03T22:24:37.371240Z",
     "start_time": "2025-01-03T22:24:37.299713Z"
    }
   },
   "cell_type": "code",
   "source": [
    "fixed_all_probabilities = all_probabilities/4\n",
    "fpr, tpr, thresholds = roc_curve(all_labels, fixed_all_probabilities)\n",
    "roc_auc = auc(fpr, tpr)\n",
    "\n",
    "plt.figure(figsize=(8, 6))\n",
    "plt.plot(fpr, tpr, color='orange', lw=2, label=f\"ROC curve (AUC = {roc_auc:.2f})\")\n",
    "plt.plot([0, 1], [0, 1], color='blue', lw=1, linestyle='--', label=\"Random guess\")\n",
    "\n",
    "plt.xlabel(\"False Positive Rate (FPR)\", fontsize=14)\n",
    "plt.ylabel(\"True Positive Rate (TPR)\", fontsize=14)\n",
    "plt.legend(loc=\"lower right\", fontsize=12)\n",
    "plt.grid(True)\n",
    "plt.show()"
   ],
   "id": "7ca16df9cd76cbe2",
   "outputs": [
    {
     "data": {
      "text/plain": [
       "<Figure size 800x600 with 1 Axes>"
      ],
      "image/png": "[encoded data removed]"
     },
     "metadata": {},
     "output_type": "display_data"
    }
   ],
   "execution_count": 16
  },
  {
   "cell_type": "markdown",
   "id": "53fd10d7-7095-4f41-976b-52bf01b04c88",
   "metadata": {},
   "source": [
    "## Restore environment"
   ]
  },
  {
   "cell_type": "code",
   "id": "eb681641-4532-4987-ab86-9a7b80fb15ac",
   "metadata": {
    "ExecuteTime": {
     "end_time": "2025-01-03T22:24:37.429544Z",
     "start_time": "2025-01-03T22:24:37.425812Z"
    }
   },
   "source": [
    "os.chdir(r\".\\notebooks\\experiments\")"
   ],
   "outputs": [],
   "execution_count": 17
  }
 ],
 "metadata": {
  "kernelspec": {
   "display_name": "Python 3 (ipykernel)",
   "language": "python",
   "name": "python3"
  },
  "language_info": {
   "codemirror_mode": {
    "name": "ipython",
    "version": 3
   },
   "file_extension": ".py",
   "mimetype": "text/x-python",
   "name": "python",
   "nbconvert_exporter": "python",
   "pygments_lexer": "ipython3",
   "version": "3.12.5"
  }
 },
 "nbformat": 4,
 "nbformat_minor": 5
}
