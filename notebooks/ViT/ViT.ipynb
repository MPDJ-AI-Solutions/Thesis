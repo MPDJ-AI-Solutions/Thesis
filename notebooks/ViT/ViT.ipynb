{
 "cells": [
  {
   "metadata": {},
   "cell_type": "markdown",
   "source": "# Eniviroment setup",
   "id": "bd2788c92659ad2f"
  },
  {
   "cell_type": "code",
   "execution_count": null,
   "id": "initial_id",
   "metadata": {
    "collapsed": true
   },
   "outputs": [],
   "source": [
    "import torch\n",
    "from torch import nn\n",
    "from torch.utils.data import DataLoader\n",
    "from torchvision.models import vit_b_16\n",
    "from torchvision.transforms import transforms\n",
    "\n",
    "from dataset.dataset_info import ClassifierDatasetInfo\n",
    "from dataset.dataset_type import DatasetType\n",
    "from dataset.STARCOP_dataset import STARCOPDataset\n",
    "\n",
    "from models.Tools.FilesHandler.model_files_handler import ModelFilesHandler\n",
    "from models.Tools.Measures.measure_tool_factory import MeasureToolFactory\n",
    "from models.Tools.Measures.model_type import ModelType"
   ]
  },
  {
   "metadata": {},
   "cell_type": "markdown",
   "source": [
    "## Setup datasets\n",
    "STARCOPDataset is custom class that derives torch.utils.data.Dataset class. It's defined in dataset module.  "
   ],
   "id": "f1080e782a0be239"
  },
  {
   "metadata": {},
   "cell_type": "code",
   "outputs": [],
   "execution_count": null,
   "source": [
    "def setup_dataloaders(data_path: str = r\"data\", batch_size: int = 32):\n",
    "    train_dataset = STARCOPDataset(\n",
    "        data_path=data_path,\n",
    "        data_type=DatasetType.EASY_TRAIN,\n",
    "        image_info_class=ClassifierDatasetInfo,\n",
    "    )\n",
    "    train_dataloader = DataLoader(train_dataset, batch_size=batch_size, shuffle=True)\n",
    "\n",
    "    test_dataset = STARCOPDataset(\n",
    "        data_path=data_path,\n",
    "        data_type=DatasetType.TEST,\n",
    "        image_info_class=ClassifierDatasetInfo,\n",
    "    )\n",
    "    test_dataloader = DataLoader(test_dataset, batch_size=batch_size, shuffle=True)\n",
    "\n",
    "    return train_dataloader, test_dataloader"
   ],
   "id": "633a22ebce25443b"
  },
  {
   "metadata": {},
   "cell_type": "markdown",
   "source": [
    "## Setup models\n",
    "\n",
    "### Model class"
   ],
   "id": "55aade7bf5249f30"
  },
  {
   "metadata": {},
   "cell_type": "code",
   "outputs": [],
   "execution_count": null,
   "source": [
    "class CustomViT(nn.Module):\n",
    "    def __init__(self, num_channels=9, num_classes=2):\n",
    "        super(CustomViT, self).__init__()\n",
    "        # Load pre-trained ViT model\n",
    "        self.vit = vit_b_16(weights=None)  # Use pretrained weights if desired\n",
    "\n",
    "        # Modify the input embedding layer to accept `num_channels`\n",
    "        self.vit.conv_proj = nn.Conv2d(num_channels, self.vit.conv_proj.out_channels,\n",
    "                                       kernel_size=self.vit.conv_proj.kernel_size,\n",
    "                                       stride=self.vit.conv_proj.stride,\n",
    "                                       padding=self.vit.conv_proj.padding,\n",
    "                                       bias=(self.vit.conv_proj.bias is not None))\n",
    "\n",
    "        # Modify the classifier head for binary classification\n",
    "        self.vit.heads = nn.Sequential(\n",
    "            nn.Linear(self.vit.heads.head.in_features, 128),\n",
    "            nn.ReLU(),\n",
    "            nn.Linear(128, num_classes)\n",
    "        )\n",
    "\n",
    "    def forward(self, x):\n",
    "        return self.vit(x)"
   ],
   "id": "8f28a27507f2ad99"
  },
  {
   "metadata": {},
   "cell_type": "markdown",
   "source": "### Prepare models ",
   "id": "35324cba37646987"
  },
  {
   "metadata": {},
   "cell_type": "code",
   "outputs": [],
   "execution_count": null,
   "source": [
    "def setup_model(lr: float, device: str):\n",
    "    model = CustomViT().to(device)\n",
    "\n",
    "    criterion = nn.CrossEntropyLoss()  # Binary classification\n",
    "    optimizer = torch.optim.Adam(model.parameters(), lr=lr)\n",
    "\n",
    "    return model, criterion, optimizer\n"
   ],
   "id": "4fbb9f2106cd78f2"
  },
  {
   "metadata": {},
   "cell_type": "markdown",
   "source": "## Prepare training function",
   "id": "ef59708b5382f94"
  },
  {
   "metadata": {},
   "cell_type": "code",
   "outputs": [],
   "execution_count": null,
   "source": [
    "def train(criterion, device, epochs, model, optimizer, dataloader, transform):\n",
    "    model.train()\n",
    "    for epoch in range(epochs):  # Adjust the number of epochs\n",
    "        running_loss = 0.0\n",
    "        for batch_id, (images, mag1c, labels) in enumerate(dataloader):  # Assume a PyTorch DataLoader is set up\n",
    "            optimizer.zero_grad()\n",
    "\n",
    "            input_image = torch.cat((images, mag1c), dim=1)\n",
    "            input_image = transform(input_image).to(device)\n",
    "            labels = labels.long().to(device)\n",
    "\n",
    "            outputs = model(input_image)\n",
    "\n",
    "            loss = criterion(outputs, labels)\n",
    "            loss.backward()\n",
    "            optimizer.step()\n",
    "            running_loss += loss.item()\n",
    "\n",
    "        print(f\"Epoch {epoch + 1}, Loss: {running_loss / len(dataloader)}\")"
   ],
   "id": "b4c4eb62cccb104c"
  },
  {
   "metadata": {},
   "cell_type": "markdown",
   "source": "## Prepare evaluate function",
   "id": "ead9dd1c2d9c4483"
  },
  {
   "metadata": {},
   "cell_type": "code",
   "outputs": [],
   "execution_count": null,
   "source": [
    "def evaluate(criterion, device, model, dataloader, transform, measurer):\n",
    "    model.eval()\n",
    "    all_predictions = []\n",
    "    all_labels = []\n",
    "    running_loss = 0.0\n",
    "\n",
    "    for batch_id, (images, mag1c, labels) in enumerate(dataloader):\n",
    "        input_image = torch.cat((images, mag1c), dim=1)\n",
    "        input_image = transform(input_image).to(device)\n",
    "        labels = labels.long().to(device)\n",
    "\n",
    "        outputs = model(input_image)\n",
    "        predictions = torch.argmax(outputs, dim=1)\n",
    "        loss = criterion(outputs, labels)\n",
    "\n",
    "        running_loss += loss.item()\n",
    "        all_predictions.append(predictions.cpu().detach())\n",
    "        all_labels.append(labels.cpu().detach())\n",
    "\n",
    "    measures = measurer.compute_measures(torch.cat(all_predictions), torch.cat(all_labels))\n",
    "    print(f\"Validation loss: {running_loss / len(dataloader)}.\\nMeasures:\\n{measures}\")\n",
    "    return measures"
   ],
   "id": "deed82ce61ddca3f"
  },
  {
   "metadata": {},
   "cell_type": "markdown",
   "source": "# Train model ",
   "id": "5a5f24876565680a"
  },
  {
   "metadata": {},
   "cell_type": "code",
   "outputs": [],
   "execution_count": null,
   "source": [
    "epochs = 10\n",
    "device = \"cuda\" if torch.cuda.is_available() else \"cpu\"\n",
    "lr = 1e-4\n",
    "\n",
    "train_dataloader, test_dataloader = setup_dataloaders()\n",
    "model, criterion, optimizer = setup_model(lr, device)\n",
    "model_handler = ModelFilesHandler()\n",
    "measurer = MeasureToolFactory.get_measure_tool(ModelType.TRANSFORMER)\n",
    "\n",
    "transform = transforms.Compose([\n",
    "    transforms.Resize((224, 224)),  # Resize images to 224x224\n",
    "    transforms.Normalize(mean=[0.5] * 9, std=[0.5] * 9)  # Normalize for 9 channels\n",
    "])\n",
    "\n",
    "train(criterion, device, epochs, model, optimizer, train_dataloader, transform)\n",
    "measures = evaluate(criterion, device, model, test_dataloader, transform, measurer)\n"
   ],
   "id": "72d2ee60759244d"
  },
  {
   "metadata": {},
   "cell_type": "markdown",
   "source": "# Save model",
   "id": "e519706b2f962064"
  },
  {
   "metadata": {},
   "cell_type": "code",
   "outputs": [],
   "execution_count": null,
   "source": [
    "model_handler.save_model(\n",
    "    model=model,\n",
    "    metrics = measures,\n",
    "    model_type=ModelType.TRANSFORMER_CLASSIFIER,\n",
    "    epoch=epochs,\n",
    ")"
   ],
   "id": "d1aae91ca9193b16"
  }
 ],
 "metadata": {
  "kernelspec": {
   "display_name": "Python 3",
   "language": "python",
   "name": "python3"
  },
  "language_info": {
   "codemirror_mode": {
    "name": "ipython",
    "version": 2
   },
   "file_extension": ".py",
   "mimetype": "text/x-python",
   "name": "python",
   "nbconvert_exporter": "python",
   "pygments_lexer": "ipython2",
   "version": "2.7.6"
  }
 },
 "nbformat": 4,
 "nbformat_minor": 5
}
