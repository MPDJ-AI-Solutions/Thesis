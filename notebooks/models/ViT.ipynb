{
 "cells": [
  {
   "cell_type": "markdown",
   "id": "542d1a1badc129ce",
   "metadata": {},
   "source": [
    "# Introduction\n",
    "This is the training showcase of ViT model. Can be used to train new models."
   ]
  },
  {
   "cell_type": "markdown",
   "id": "bd2788c92659ad2f",
   "metadata": {},
   "source": [
    "## Eniviroment setup"
   ]
  },
  {
   "cell_type": "code",
   "execution_count": 3,
   "id": "initial_id",
   "metadata": {
    "ExecuteTime": {
     "end_time": "2024-12-14T23:16:11.327224Z",
     "start_time": "2024-12-14T23:16:06.564680Z"
    },
    "collapsed": true,
    "jupyter": {
     "outputs_hidden": true
    }
   },
   "outputs": [],
   "source": [
    "import torch\n",
    "from torch import nn\n",
    "from torch.utils.data import DataLoader\n",
    "from torchvision.models import vit_b_16\n",
    "from torchvision.transforms import transforms\n",
    "\n",
    "from dataset.dataset_info import ClassifierDatasetInfo, DatasetInfo\n",
    "from dataset.dataset_type import DatasetType\n",
    "from dataset.STARCOP_dataset import STARCOPDataset\n",
    "\n",
    "from files_handler import ModelFilesHandler\n",
    "from measures import MeasureToolFactory\n",
    "from measures import ModelType\n",
    "\n",
    "import sys\n",
    "import os\n",
    "from typing import Type\n",
    "\n",
    "os.chdir(r\"..\\..\")"
   ]
  },
  {
   "cell_type": "markdown",
   "id": "f1080e782a0be239",
   "metadata": {},
   "source": [
    "## Setup datasets\n",
    "STARCOPDataset is custom class that derives torch.utils.data.Dataset class. It's defined in dataset module."
   ]
  },
  {
   "cell_type": "code",
   "execution_count": 4,
   "id": "633a22ebce25443b",
   "metadata": {
    "ExecuteTime": {
     "end_time": "2024-12-14T23:16:11.847684Z",
     "start_time": "2024-12-14T23:16:11.843485Z"
    }
   },
   "outputs": [],
   "source": [
    "def setup_dataloaders(\n",
    "        data_path: str = r\"data\",\n",
    "        batch_size: int = 32,\n",
    "        train_type = DatasetType.EASY_TRAIN,\n",
    "        image_info_class: Type[DatasetInfo] = ClassifierDatasetInfo,\n",
    "        crop_size: int = 1\n",
    "):\n",
    "    train_dataset = STARCOPDataset(\n",
    "        data_path=data_path,\n",
    "        data_type=train_type,\n",
    "        image_info_class=image_info_class,\n",
    "        crop_size=crop_size\n",
    "    )\n",
    "    train_dataloader = DataLoader(train_dataset, batch_size=batch_size, shuffle=True)\n",
    "\n",
    "    test_dataset = STARCOPDataset(\n",
    "        data_path=data_path,\n",
    "        data_type=DatasetType.TEST,\n",
    "        image_info_class=image_info_class,\n",
    "        crop_size=crop_size\n",
    "    )\n",
    "    test_dataloader = DataLoader(test_dataset, batch_size=batch_size, shuffle=True)\n",
    "\n",
    "    return train_dataloader, test_dataloader"
   ]
  },
  {
   "cell_type": "markdown",
   "id": "55aade7bf5249f30",
   "metadata": {},
   "source": [
    "## Setup models\n",
    "\n",
    "### Model class"
   ]
  },
  {
   "cell_type": "code",
   "execution_count": 5,
   "id": "8f28a27507f2ad99",
   "metadata": {
    "ExecuteTime": {
     "end_time": "2024-12-14T23:16:14.333166Z",
     "start_time": "2024-12-14T23:16:14.329086Z"
    }
   },
   "outputs": [],
   "source": [
    "class CustomViT(nn.Module):\n",
    "    def __init__(self, num_channels=9, num_classes=2):\n",
    "        super(CustomViT, self).__init__()\n",
    "        # Load pre-trained ViT model\n",
    "        self.vit = vit_b_16(weights=None)  # Use pretrained weights if desired\n",
    "\n",
    "        # Modify the input embedding layer to accept `num_channels`\n",
    "        self.vit.conv_proj = nn.Conv2d(num_channels, self.vit.conv_proj.out_channels,\n",
    "                                       kernel_size=self.vit.conv_proj.kernel_size,\n",
    "                                       stride=self.vit.conv_proj.stride,\n",
    "                                       padding=self.vit.conv_proj.padding,\n",
    "                                       bias=(self.vit.conv_proj.bias is not None))\n",
    "\n",
    "        # Modify the classifier head for binary classification\n",
    "        self.vit.heads = nn.Sequential(\n",
    "            nn.Linear(self.vit.heads.head.in_features, 128),\n",
    "            nn.ReLU(),\n",
    "            nn.Linear(128, num_classes)\n",
    "        )\n",
    "        \n",
    "        self.resize = nn.Upsample(size=(224, 224), mode='bilinear', align_corners=False)\n",
    "        self.normalize = transforms.Normalize(mean=[0.5] * num_channels, std=[0.5] * num_channels)        \n",
    "\n",
    "    def forward(self, x):\n",
    "        print(x.shape)\n",
    "        x = self.resize(x)\n",
    "        x = self.normalize(x)\n",
    "        print(x.shape)\n",
    "        return self.vit(x)"
   ]
  },
  {
   "cell_type": "markdown",
   "id": "35324cba37646987",
   "metadata": {},
   "source": [
    "### Prepare models "
   ]
  },
  {
   "cell_type": "code",
   "execution_count": 6,
   "id": "4fbb9f2106cd78f2",
   "metadata": {
    "ExecuteTime": {
     "end_time": "2024-12-14T23:16:16.222832Z",
     "start_time": "2024-12-14T23:16:16.219762Z"
    }
   },
   "outputs": [],
   "source": [
    "def setup_model(model: nn.Module, lr: float, device: str):\n",
    "    model = model.to(device)\n",
    "\n",
    "    criterion = nn.CrossEntropyLoss()  # Binary classification\n",
    "    optimizer = torch.optim.Adam(model.parameters(), lr=lr)\n",
    "\n",
    "    return model, criterion, optimizer"
   ]
  },
  {
   "cell_type": "markdown",
   "id": "ef59708b5382f94",
   "metadata": {},
   "source": [
    "## Prepare training function"
   ]
  },
  {
   "cell_type": "markdown",
   "id": "b1f84871b7e700c9",
   "metadata": {},
   "source": []
  },
  {
   "cell_type": "code",
   "execution_count": 7,
   "id": "26251c87110288d6",
   "metadata": {
    "ExecuteTime": {
     "end_time": "2024-12-14T23:16:18.943210Z",
     "start_time": "2024-12-14T23:16:18.940164Z"
    }
   },
   "outputs": [],
   "source": [
    "def print_progress_bar(percentage, loss):\n",
    "    bar_length = 50  # Length of the progress bar\n",
    "    filled_length = int(bar_length * percentage // 100)\n",
    "    bar = '=' * filled_length + '-' * (bar_length - filled_length)\n",
    "    sys.stdout.write(f\"\\r[{bar}] {percentage:.2f}% [Loss: {loss:.6f}]\")\n",
    "    sys.stdout.flush()"
   ]
  },
  {
   "cell_type": "markdown",
   "id": "da24e4a1d5e46fb3",
   "metadata": {},
   "source": []
  },
  {
   "cell_type": "code",
   "execution_count": 8,
   "id": "b4c4eb62cccb104c",
   "metadata": {
    "ExecuteTime": {
     "end_time": "2024-12-14T23:16:20.076673Z",
     "start_time": "2024-12-14T23:16:20.072374Z"
    }
   },
   "outputs": [],
   "source": [
    "def train(criterion, device, epochs, model, optimizer, dataloader, model_handler, log_batches: bool = False):\n",
    "    model.train()\n",
    "    for epoch in range(epochs):  \n",
    "        print(f\"Epoch: {epoch}\")\n",
    "        running_loss = 0.0\n",
    "        for batch_id, (images, mag1c, labels) in enumerate(dataloader):\n",
    "            optimizer.zero_grad()\n",
    "\n",
    "            input_image = torch.cat((images, mag1c), dim=1).to(device)\n",
    "            labels = labels.long().to(device)\n",
    "\n",
    "            outputs = model(input_image)\n",
    "\n",
    "            loss = criterion(outputs, labels)\n",
    "            loss.backward()\n",
    "            optimizer.step()\n",
    "            running_loss += loss.item()\n",
    "\n",
    "            if log_batches and (batch_id + 1) % 10 == 0:\n",
    "                print_progress_bar(batch_id / len(dataloader) * 100, running_loss / (batch_id + 1))\n",
    "\n",
    "        print(f\"Epoch {epoch + 1}, Loss: {running_loss / len(dataloader)}\")\n",
    "        model_handler.save_raw_model(model)"
   ]
  },
  {
   "cell_type": "markdown",
   "id": "ead9dd1c2d9c4483",
   "metadata": {},
   "source": [
    "## Prepare evaluate function"
   ]
  },
  {
   "cell_type": "code",
   "execution_count": 9,
   "id": "deed82ce61ddca3f",
   "metadata": {
    "ExecuteTime": {
     "end_time": "2024-12-14T23:16:23.657095Z",
     "start_time": "2024-12-14T23:16:23.652882Z"
    }
   },
   "outputs": [],
   "source": [
    "def evaluate(criterion, device, model, dataloader, measurer):\n",
    "    model.eval()\n",
    "    all_predictions = []\n",
    "    all_labels = []\n",
    "    running_loss = 0.0\n",
    "\n",
    "    for batch_id, (images, mag1c, labels) in enumerate(dataloader):\n",
    "        input_image = torch.cat((images, mag1c), dim=1).to(device)\n",
    "        labels = labels.long().to(device)\n",
    "\n",
    "        outputs = model(input_image)\n",
    "        predictions = torch.argmax(outputs, dim=1)\n",
    "        loss = criterion(outputs, labels)\n",
    "\n",
    "        running_loss += loss.item()\n",
    "        all_predictions.append(predictions.cpu().detach())\n",
    "        all_labels.append(labels.cpu().detach())\n",
    "\n",
    "    measures = measurer.compute_measures(torch.cat(all_predictions), torch.cat(all_labels))\n",
    "    print(f\"Validation loss: {running_loss / len(dataloader)}.\\nMeasures:\\n{measures}\")\n",
    "    return measures"
   ]
  },
  {
   "cell_type": "markdown",
   "id": "5a5f24876565680a",
   "metadata": {},
   "source": [
    "# Train model "
   ]
  },
  {
   "cell_type": "code",
   "execution_count": 9,
   "id": "72d2ee60759244d",
   "metadata": {
    "ExecuteTime": {
     "end_time": "2024-12-14T14:00:32.400219Z",
     "start_time": "2024-12-14T11:34:42.139615Z"
    }
   },
   "outputs": [
    {
     "name": "stdout",
     "output_type": "stream",
     "text": [
      "Epoch: 0\n",
      "[==============================================----] 92.52% [Loss: 0.602394]Epoch 1, Loss: 0.6002207933185256\n",
      "Epoch: 1\n",
      "[==============================================----] 92.52% [Loss: 0.476066]Epoch 2, Loss: 0.4669475673793632\n",
      "Epoch: 2\n",
      "[==============================================----] 92.52% [Loss: 0.274359]Epoch 3, Loss: 0.2805317760070908\n",
      "Epoch: 3\n",
      "[==============================================----] 92.52% [Loss: 0.222933]Epoch 4, Loss: 0.22116726031091727\n",
      "Epoch: 4\n",
      "[==============================================----] 92.52% [Loss: 0.188808]Epoch 5, Loss: 0.18576970863565107\n",
      "Epoch: 5\n",
      "[==============================================----] 92.52% [Loss: 0.147074]Epoch 6, Loss: 0.14859600905677148\n",
      "Epoch: 6\n",
      "[==============================================----] 92.52% [Loss: 0.136484]Epoch 7, Loss: 0.13760415742295645\n",
      "Epoch: 7\n",
      "[==============================================----] 92.52% [Loss: 0.095068]Epoch 8, Loss: 0.09662140665628086\n",
      "Epoch: 8\n",
      "[==============================================----] 92.52% [Loss: 0.108167]Epoch 9, Loss: 0.10703927721114498\n",
      "Epoch: 9\n",
      "[==============================================----] 92.52% [Loss: 0.091410]Epoch 10, Loss: 0.09007223964033421\n",
      "Epoch: 10\n",
      "[==============================================----] 92.52% [Loss: 0.067120]Epoch 11, Loss: 0.06614022117508488\n",
      "Epoch: 11\n",
      "[==============================================----] 92.52% [Loss: 0.064547]Epoch 12, Loss: 0.06486529913604712\n",
      "Epoch: 12\n",
      "[==============================================----] 92.52% [Loss: 0.044403]Epoch 13, Loss: 0.04674704064110242\n",
      "Epoch: 13\n",
      "[==============================================----] 92.52% [Loss: 0.057632]Epoch 14, Loss: 0.056264151644971325\n",
      "Epoch: 14\n",
      "[==============================================----] 92.52% [Loss: 0.035176]Epoch 15, Loss: 0.034581042311554684\n",
      "Validation loss: 0.44342250444672326.\n",
      "Measures:\n",
      "         TP        FP        FN        TN  Precision  Sensitivity  \\\n",
      "0  0.410557  0.020528  0.076246  0.492669   0.952379     0.843372   \n",
      "\n",
      "   Specificity       NPV   FPR  Accuracy   F-Score       IoU       MCC  \\\n",
      "0     0.959998  0.865978  0.04  0.903225  0.894566  0.809249  0.810829   \n",
      "\n",
      "        AUC        CI  \n",
      "0  0.901687  0.052641  \n"
     ]
    }
   ],
   "source": [
    "epochs = 15\n",
    "device = \"cuda\" if torch.cuda.is_available() else \"cpu\"\n",
    "lr = 1e-4\n",
    "\n",
    "# Override for file handler\n",
    "from models.Transformer.VIT.model import CustomViT\n",
    "\n",
    "train_dataloader, test_dataloader = setup_dataloaders(train_type=DatasetType.TRAIN)\n",
    "model = CustomViT()\n",
    "model, criterion, optimizer = setup_model(model, lr, device)\n",
    "model_handler = ModelFilesHandler()\n",
    "measurer = MeasureToolFactory.get_measure_tool(ModelType.TRANSFORMER)\n",
    "\n",
    "\n",
    "train(criterion, device, epochs, model, optimizer, train_dataloader, model_handler, log_batches=True)\n",
    "measures = evaluate(criterion, device, model, test_dataloader, measurer)"
   ]
  },
  {
   "cell_type": "markdown",
   "id": "e519706b2f962064",
   "metadata": {},
   "source": [
    "# Save model"
   ]
  },
  {
   "cell_type": "code",
   "execution_count": 3,
   "id": "d1aae91ca9193b16",
   "metadata": {
    "ExecuteTime": {
     "end_time": "2024-12-15T10:51:33.233095Z",
     "start_time": "2024-12-15T10:51:33.229439Z"
    }
   },
   "outputs": [
    {
     "name": "stdout",
     "output_type": "stream",
     "text": [
      "'trained_models\\\\model_vit_2024_12_15_11_50_56.pickle'\n"
     ]
    }
   ],
   "source": [
    "model_handler.save_model(\n",
    "    model=model,\n",
    "    metrics = measures,\n",
    "    model_type=ModelType.VIT,\n",
    "    epoch=epochs,\n",
    ")"
   ]
  },
  {
   "cell_type": "markdown",
   "id": "37a0423e-6236-4127-be90-a916d3a6e792",
   "metadata": {},
   "source": [
    "## Restore environment"
   ]
  },
  {
   "cell_type": "code",
   "execution_count": null,
   "id": "43c4a934-8f76-44f5-8f76-96cd91a00aaa",
   "metadata": {},
   "outputs": [],
   "source": [
    "os.chdir(r\".\\notebooks\\models\")"
   ]
  }
 ],
 "metadata": {
  "kernelspec": {
   "display_name": "Python 3 (ipykernel)",
   "language": "python",
   "name": "python3"
  },
  "language_info": {
   "codemirror_mode": {
    "name": "ipython",
    "version": 3
   },
   "file_extension": ".py",
   "mimetype": "text/x-python",
   "name": "python",
   "nbconvert_exporter": "python",
   "pygments_lexer": "ipython3",
   "version": "3.12.5"
  }
 },
 "nbformat": 4,
 "nbformat_minor": 5
}
