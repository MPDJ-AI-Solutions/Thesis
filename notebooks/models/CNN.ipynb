{
 "cells": [
  {
   "cell_type": "markdown",
   "id": "88295c707bd462b9",
   "metadata": {},
   "source": [
    "# Introduction\n",
    "This is the training showcase of CNN model. Can be used to train new models.\n"
   ]
  },
  {
   "cell_type": "markdown",
   "id": "9ad61cf8537246a",
   "metadata": {},
   "source": [
    "## Environment setup"
   ]
  },
  {
   "cell_type": "code",
   "execution_count": 9,
   "id": "6d686f408b02c2f8",
   "metadata": {
    "ExecuteTime": {
     "end_time": "2024-12-14T11:43:54.454820Z",
     "start_time": "2024-12-14T11:43:54.450758Z"
    },
    "collapsed": true,
    "jupyter": {
     "outputs_hidden": true
    }
   },
   "outputs": [],
   "source": [
    "from typing import Type\n",
    "\n",
    "import torch\n",
    "from torch import nn\n",
    "from torch.utils.data import DataLoader\n",
    "\n",
    "from dataset.dataset_info import ClassifierDatasetInfo, DatasetInfo\n",
    "from dataset.dataset_type import DatasetType\n",
    "from dataset.STARCOP_dataset import STARCOPDataset\n",
    "\n",
    "from files_handler import ModelFilesHandler\n",
    "from measures import MeasureToolFactory\n",
    "from measures import ModelType\n",
    "\n",
    "import os\n",
    "import sys\n",
    "os.chdir(r\"..\\..\")"
   ]
  },
  {
   "cell_type": "markdown",
   "id": "e84bf51a990e7e6",
   "metadata": {},
   "source": [
    "## Setup datasets\n",
    "STARCOPDataset is custom class that derives torch.utils.data.Dataset class. It's defined in dataset module."
   ]
  },
  {
   "cell_type": "code",
   "execution_count": 10,
   "id": "c3d8add62bc5a28b",
   "metadata": {
    "ExecuteTime": {
     "end_time": "2024-12-14T11:43:54.460330Z",
     "start_time": "2024-12-14T11:43:54.456825Z"
    }
   },
   "outputs": [],
   "source": [
    "def setup_dataloaders(\n",
    "        data_path: str = r\"data\",\n",
    "        batch_size: int = 32,\n",
    "        train_type = DatasetType.EASY_TRAIN,\n",
    "        image_info_class: Type[DatasetInfo] = ClassifierDatasetInfo,\n",
    "        crop_size: int = 1\n",
    "):\n",
    "    train_dataset = STARCOPDataset(\n",
    "        data_path=data_path,\n",
    "        data_type=train_type,\n",
    "        image_info_class=image_info_class,\n",
    "        crop_size=crop_size\n",
    "    )\n",
    "    train_dataloader = DataLoader(train_dataset, batch_size=batch_size, shuffle=True)\n",
    "\n",
    "    test_dataset = STARCOPDataset(\n",
    "        data_path=data_path,\n",
    "        data_type=DatasetType.TEST,\n",
    "        image_info_class=image_info_class,\n",
    "        crop_size=crop_size\n",
    "    )\n",
    "    test_dataloader = DataLoader(test_dataset, batch_size=batch_size, shuffle=True)\n",
    "\n",
    "    return train_dataloader, test_dataloader"
   ]
  },
  {
   "cell_type": "markdown",
   "id": "37801b5aea4f5b0d",
   "metadata": {},
   "source": [
    "## Setup models\n",
    "\n",
    "### Model class"
   ]
  },
  {
   "cell_type": "code",
   "execution_count": 11,
   "id": "388d223200856cfb",
   "metadata": {
    "ExecuteTime": {
     "end_time": "2024-12-14T11:43:54.473662Z",
     "start_time": "2024-12-14T11:43:54.469117Z"
    }
   },
   "outputs": [],
   "source": [
    "class MethaNetClassifier(nn.Module):\n",
    "    def __init__(self, in_channels:int = 9, num_classes:int = 2):\n",
    "        super(MethaNetClassifier, self).__init__()\n",
    "        self.pre_conv = nn.Sequential(\n",
    "            nn.Conv2d(in_channels//1, in_channels//2, kernel_size=1),\n",
    "            nn.Conv2d(in_channels//2, in_channels//4, kernel_size=1),\n",
    "            nn.Conv2d(in_channels//4, in_channels//8, kernel_size=1),\n",
    "        )\n",
    "\n",
    "        self.conv_layers = nn.Sequential(\n",
    "            nn.Conv2d(1, 6, kernel_size=2, stride=1, padding=0),  # Input channels = 8\n",
    "            nn.ReLU(),\n",
    "\n",
    "            nn.Conv2d(6, 12, kernel_size=3, stride=1, padding=0),\n",
    "            nn.ReLU(),\n",
    "\n",
    "            nn.MaxPool2d(kernel_size=2, stride=2),\n",
    "\n",
    "            nn.Conv2d(12, 16, kernel_size=4, stride=1, padding=0),\n",
    "            nn.ReLU(),\n",
    "\n",
    "            nn.MaxPool2d(kernel_size=2, stride=2),\n",
    "\n",
    "            nn.Dropout(p=0.2),\n",
    "\n",
    "            nn.Conv2d(16, 16, kernel_size=4, stride=1, padding=0),\n",
    "            nn.ReLU(),\n",
    "\n",
    "            nn.MaxPool2d(kernel_size=2, stride=2)\n",
    "        )\n",
    "\n",
    "        self.fc_layers = nn.Sequential(\n",
    "            nn.Flatten(),\n",
    "            nn.Linear(16 * 61 * 61, 64),  # Adjust dimensions for 512x512 input\n",
    "            nn.ReLU(),\n",
    "\n",
    "            nn.Linear(64, 32),\n",
    "            nn.ReLU(),\n",
    "\n",
    "            nn.Linear(32, num_classes),\n",
    "            nn.Softmax(dim=1)  # Softmax for class probabilities\n",
    "        )\n",
    "\n",
    "    def forward(self, x):\n",
    "        x = self.pre_conv(x)\n",
    "        x = self.conv_layers(x)\n",
    "        x = self.fc_layers(x)\n",
    "        return x\n"
   ]
  },
  {
   "cell_type": "markdown",
   "id": "9079395251cbc5b1",
   "metadata": {},
   "source": [
    "### Prepare models"
   ]
  },
  {
   "cell_type": "code",
   "execution_count": 12,
   "id": "c6f167b1b416710a",
   "metadata": {
    "ExecuteTime": {
     "end_time": "2024-12-14T11:43:54.487736Z",
     "start_time": "2024-12-14T11:43:54.484223Z"
    }
   },
   "outputs": [],
   "source": [
    "def setup_model(model: nn.Module, lr: float, device: str):\n",
    "    model = model.to(device)\n",
    "\n",
    "    criterion = nn.CrossEntropyLoss()  # Binary classification\n",
    "    optimizer = torch.optim.Adam(model.parameters(), lr=lr)\n",
    "\n",
    "    return model, criterion, optimizer"
   ]
  },
  {
   "cell_type": "markdown",
   "id": "8b87ecfebbda635c",
   "metadata": {},
   "source": [
    "## Prepare training function"
   ]
  },
  {
   "cell_type": "code",
   "execution_count": 13,
   "id": "3344166b58b7225b",
   "metadata": {
    "ExecuteTime": {
     "end_time": "2024-12-14T11:43:54.492628Z",
     "start_time": "2024-12-14T11:43:54.489120Z"
    }
   },
   "outputs": [],
   "source": [
    "def print_progress_bar(percentage, loss):\n",
    "    bar_length = 50  # Length of the progress bar\n",
    "    filled_length = int(bar_length * percentage // 100)\n",
    "    bar = '=' * filled_length + '-' * (bar_length - filled_length)\n",
    "    sys.stdout.write(f\"\\r[{bar}] {percentage:.2f}% [Loss: {loss:.6f}]\")\n",
    "    sys.stdout.flush()"
   ]
  },
  {
   "cell_type": "code",
   "execution_count": 14,
   "id": "512fceef38a11323",
   "metadata": {
    "ExecuteTime": {
     "end_time": "2024-12-14T11:43:54.500714Z",
     "start_time": "2024-12-14T11:43:54.496766Z"
    }
   },
   "outputs": [],
   "source": [
    "def train(criterion, device, epochs, model, optimizer, dataloader, model_handler, log_batches: bool = False):\n",
    "    model.train()\n",
    "    for epoch in range(epochs):  \n",
    "        print(f\"Epoch: {epoch}\")\n",
    "        running_loss = 0.0\n",
    "        for batch_id, (images, mag1c, labels) in enumerate(dataloader): \n",
    "            optimizer.zero_grad()\n",
    "\n",
    "            input_image = torch.cat((images, mag1c), dim=1).to(device)\n",
    "            labels = labels.long().to(device)\n",
    "\n",
    "            outputs = model(input_image)\n",
    "\n",
    "            loss = criterion(outputs, labels)\n",
    "            loss.backward()\n",
    "            optimizer.step()\n",
    "            running_loss += loss.item()\n",
    "            \n",
    "            if log_batches and (batch_id + 1) % 10 == 0:\n",
    "                print_progress_bar(batch_id / len(dataloader) * 100, running_loss / (batch_id + 1))\n",
    "\n",
    "        print(f\"Epoch {epoch + 1}, Loss: {running_loss / len(dataloader)}\")\n",
    "        model_handler.save_raw_model(model)"
   ]
  },
  {
   "cell_type": "markdown",
   "id": "3f530c417b88fc19",
   "metadata": {},
   "source": [
    "## Prepare evaluate function"
   ]
  },
  {
   "cell_type": "code",
   "execution_count": 15,
   "id": "8cf2bd45a43c4576",
   "metadata": {
    "ExecuteTime": {
     "end_time": "2024-12-14T11:43:54.509217Z",
     "start_time": "2024-12-14T11:43:54.505257Z"
    }
   },
   "outputs": [],
   "source": [
    "def evaluate(criterion, device, model, dataloader, measurer):\n",
    "    model.eval()\n",
    "    all_predictions = []\n",
    "    all_labels = []\n",
    "    running_loss = 0.0\n",
    "\n",
    "    for batch_id, (images, mag1c, labels) in enumerate(dataloader):\n",
    "        input_image = torch.cat((images, mag1c), dim=1).to(device)\n",
    "        labels = labels.long().to(device)\n",
    "\n",
    "        outputs = model(input_image)\n",
    "        predictions = torch.argmax(outputs, dim=1)\n",
    "        loss = criterion(outputs, labels)\n",
    "\n",
    "        running_loss += loss.item()\n",
    "        all_predictions.append(predictions.cpu().detach())\n",
    "        all_labels.append(labels.cpu().detach())\n",
    "\n",
    "    measures = measurer.compute_measures(torch.cat(all_predictions), torch.cat(all_labels))\n",
    "    print(f\"Validation loss: {running_loss / len(dataloader)}.\\nMeasures:\\n{measures}\")\n",
    "    return measures"
   ]
  },
  {
   "cell_type": "markdown",
   "id": "545bc7a7fe0620d4",
   "metadata": {},
   "source": [
    "# Train model"
   ]
  },
  {
   "cell_type": "code",
   "execution_count": 16,
   "id": "63a2f27507c95583",
   "metadata": {
    "ExecuteTime": {
     "end_time": "2024-12-14T12:20:07.677568Z",
     "start_time": "2024-12-14T11:43:54.514398Z"
    }
   },
   "outputs": [
    {
     "name": "stdout",
     "output_type": "stream",
     "text": [
      "Epoch: 0\n",
      "[=============================================-----] 91.67% [Loss: 0.529073]Epoch 1, Loss: 0.520691869435487\n",
      "Epoch: 1\n",
      "[=============================================-----] 91.67% [Loss: 0.388527]Epoch 2, Loss: 0.38788151023564515\n",
      "Epoch: 2\n",
      "[=============================================-----] 91.67% [Loss: 0.352972]Epoch 3, Loss: 0.35187796889631834\n",
      "Epoch: 3\n",
      "[=============================================-----] 91.67% [Loss: 0.333890]Epoch 4, Loss: 0.33372077456227056\n",
      "Epoch: 4\n",
      "[=============================================-----] 91.67% [Loss: 0.329118]Epoch 5, Loss: 0.3286008478866683\n",
      "Epoch: 5\n",
      "[=============================================-----] 91.67% [Loss: 0.329275]Epoch 6, Loss: 0.3284068637424045\n",
      "Epoch: 6\n",
      "[=============================================-----] 91.67% [Loss: 0.328966]Epoch 7, Loss: 0.32845190581348205\n",
      "Epoch: 7\n",
      "[=============================================-----] 91.67% [Loss: 0.325241]Epoch 8, Loss: 0.3246684118553444\n",
      "Epoch: 8\n",
      "[=============================================-----] 91.67% [Loss: 0.326900]Epoch 9, Loss: 0.3264417846997579\n",
      "Epoch: 9\n",
      "[=============================================-----] 91.67% [Loss: 0.325328]Epoch 10, Loss: 0.32446255562482057\n",
      "Epoch: 10\n",
      "[=============================================-----] 91.67% [Loss: 0.321997]Epoch 11, Loss: 0.32343075258864296\n",
      "Epoch: 11\n",
      "[=============================================-----] 91.67% [Loss: 0.323619]Epoch 12, Loss: 0.33238498204284245\n",
      "Epoch: 12\n",
      "[=============================================-----] 91.67% [Loss: 0.325901]Epoch 13, Loss: 0.32526106718513703\n",
      "Epoch: 13\n",
      "[=============================================-----] 91.67% [Loss: 0.321496]Epoch 14, Loss: 0.32146759662363267\n",
      "Epoch: 14\n",
      "[=============================================-----] 91.67% [Loss: 0.321347]Epoch 15, Loss: 0.3213348189989726\n",
      "Validation loss: 0.3444909399205988.\n",
      "Measures:\n",
      "        TP        FP        FN   TN  Precision  Sensitivity  Specificity  \\\n",
      "0  0.47076  0.011696  0.017544  0.5   0.975758     0.964072     0.977143   \n",
      "\n",
      "        NPV       FPR        Accuracy  F-Score             IoU       MCC  \\\n",
      "0  0.966102  0.022857  tensor(0.9708)  0.96988  tensor(0.9415)  0.941537   \n",
      "\n",
      "        AUC          CI  \n",
      "0  0.970607  (1.0, 1.0)  \n"
     ]
    }
   ],
   "source": [
    "epochs = 15\n",
    "device = \"cuda\" if torch.cuda.is_available() else \"cpu\"\n",
    "lr = 1e-4\n",
    "\n",
    "# Override for file handler\n",
    "from models.Convolutional.MethaNet.model import MethaNetClassifier\n",
    "\n",
    "train_dataloader, test_dataloader = setup_dataloaders(train_type=DatasetType.TRAIN)\n",
    "model = MethaNetClassifier()\n",
    "model, criterion, optimizer = setup_model(model, lr, device)\n",
    "model_handler = ModelFilesHandler()\n",
    "measurer = MeasureToolFactory.get_measure_tool(ModelType.CNN)\n",
    "\n",
    "train(criterion, device, epochs, model, optimizer, train_dataloader, model_handler, log_batches=True)\n",
    "measures = evaluate(criterion, device, model, test_dataloader, measurer)"
   ]
  },
  {
   "cell_type": "markdown",
   "id": "c8a7c96c4906c574",
   "metadata": {},
   "source": [
    "# Save model"
   ]
  },
  {
   "cell_type": "code",
   "execution_count": 17,
   "id": "90703884c752a84",
   "metadata": {
    "ExecuteTime": {
     "end_time": "2024-12-14T12:20:07.791406Z",
     "start_time": "2024-12-14T12:20:07.758912Z"
    }
   },
   "outputs": [
    {
     "data": {
      "text/plain": [
       "'trained_models\\\\model_cnn_2024_12_14_13_20_07.pickle'"
      ]
     },
     "execution_count": 17,
     "metadata": {},
     "output_type": "execute_result"
    }
   ],
   "source": [
    "model_handler.save_model(\n",
    "    model=model,\n",
    "    metrics = measures,\n",
    "    model_type=ModelType.CNN,\n",
    "    epoch=epochs,\n",
    ")"
   ]
  },
  {
   "cell_type": "code",
   "execution_count": 19,
   "id": "6151f75a3ad113b4",
   "metadata": {
    "ExecuteTime": {
     "end_time": "2024-12-14T12:32:15.747936Z",
     "start_time": "2024-12-14T12:30:00.080853Z"
    }
   },
   "outputs": [
    {
     "name": "stdout",
     "output_type": "stream",
     "text": [
      "Validation loss: 0.3235416580681448.\n",
      "Measures:\n",
      "         TP        FP        FN        TN  Precision  Sensitivity  \\\n",
      "0  0.493431  0.004964  0.003504  0.498102   0.990041     0.992949   \n",
      "\n",
      "   Specificity       NPV       FPR        Accuracy   F-Score             IoU  \\\n",
      "0     0.990133  0.993015  0.009867  tensor(0.9915)  0.991493  tensor(0.9831)   \n",
      "\n",
      "       MCC       AUC          CI  \n",
      "0  0.98307  0.991541  (1.0, 1.0)  \n"
     ]
    }
   ],
   "source": [
    "easy_train_dataloader, _ = setup_dataloaders(train_type=DatasetType.EASY_TRAIN)\n",
    "\n",
    "measures = evaluate(criterion, device, model, train_dataloader, measurer)\n"
   ]
  },
  {
   "cell_type": "markdown",
   "id": "f5f34163-e5db-42db-a99a-a13a3c2c4fa1",
   "metadata": {},
   "source": [
    "## Restore environment"
   ]
  },
  {
   "cell_type": "code",
   "execution_count": null,
   "id": "f2b674c2-5f8f-4799-a1ef-c56664f86015",
   "metadata": {},
   "outputs": [],
   "source": [
    "os.chdir(r\".\\notebooks\\models\")"
   ]
  }
 ],
 "metadata": {
  "kernelspec": {
   "display_name": "Python 3 (ipykernel)",
   "language": "python",
   "name": "python3"
  },
  "language_info": {
   "codemirror_mode": {
    "name": "ipython",
    "version": 3
   },
   "file_extension": ".py",
   "mimetype": "text/x-python",
   "name": "python",
   "nbconvert_exporter": "python",
   "pygments_lexer": "ipython3",
   "version": "3.12.5"
  }
 },
 "nbformat": 4,
 "nbformat_minor": 5
}
