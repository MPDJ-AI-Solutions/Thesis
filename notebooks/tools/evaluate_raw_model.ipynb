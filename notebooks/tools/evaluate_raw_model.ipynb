{
 "cells": [
  {
   "cell_type": "markdown",
   "id": "476fcd56e0c0220e",
   "metadata": {},
   "source": [
    "# Introduction\n",
    "This notebook can be used to evaluate raw model found in trained_models folder. Raw models are saved after each epoch during training process."
   ]
  },
  {
   "cell_type": "markdown",
   "id": "44a024e21f52cda5",
   "metadata": {},
   "source": [
    "## Setup environment"
   ]
  },
  {
   "cell_type": "code",
   "execution_count": 1,
   "id": "initial_id",
   "metadata": {
    "ExecuteTime": {
     "end_time": "2024-12-30T22:58:26.895219Z",
     "start_time": "2024-12-30T22:58:25.304282Z"
    },
    "collapsed": true
   },
   "outputs": [],
   "source": [
    "import os\n",
    "import torch\n",
    "new_cwd_path  = input(\"Provide working directory path: \")\n",
    "os.chdir(new_cwd_path)\n",
    "\n",
    "\n",
    "from dataset.dataset_type import DatasetType\n",
    "from files_handler import ModelFilesHandler\n",
    "from measures import MeasureToolFactory\n",
    "from measures import ModelType"
   ]
  },
  {
   "cell_type": "markdown",
   "id": "a9f762615e6971c6",
   "metadata": {},
   "source": [
    "## Provide file path"
   ]
  },
  {
   "cell_type": "code",
   "execution_count": 2,
   "id": "abe6b5dfa69e3c51",
   "metadata": {
    "ExecuteTime": {
     "end_time": "2024-12-30T22:58:28.234425Z",
     "start_time": "2024-12-30T22:58:26.897229Z"
    }
   },
   "outputs": [],
   "source": [
    "path = input(\"Provide raw file path: \")"
   ]
  },
  {
   "cell_type": "markdown",
   "id": "f689a6f12790a997",
   "metadata": {},
   "source": [
    "## Evaluate model"
   ]
  },
  {
   "cell_type": "code",
   "execution_count": null,
   "id": "9b48f7a89453e3bd",
   "metadata": {
    "ExecuteTime": {
     "start_time": "2024-12-30T22:58:32.498652Z"
    }
   },
   "outputs": [],
   "source": [
    "from models.Tools.Train.train_classifier import setup_dataloaders, setup_model, evaluate\n",
    "\n",
    "epochs = 15\n",
    "device = \"cuda\" if torch.cuda.is_available() else \"cpu\"\n",
    "lr = 1e-4\n",
    "\n",
    "train_dataloader, test_dataloader = setup_dataloaders(batch_size=16, train_type=DatasetType.TRAIN)\n",
    "model_handler = ModelFilesHandler()\n",
    "model = model_handler.load_raw_model(path)\n",
    "model, criterion, optimizer = setup_model(model, lr, device)\n",
    "\n",
    "measurer = MeasureToolFactory.get_measure_tool(ModelType.TRANSFORMER)\n",
    "measures = evaluate(criterion, device, model, test_dataloader, measurer)"
   ]
  },
  {
   "cell_type": "markdown",
   "id": "1a151959ad9bccbb",
   "metadata": {},
   "source": [
    "## Save model"
   ]
  },
  {
   "cell_type": "code",
   "execution_count": 26,
   "id": "4ff4a2a7a04f3d51",
   "metadata": {
    "ExecuteTime": {
     "end_time": "2024-12-30T23:01:53.795578400Z",
     "start_time": "2024-12-30T22:49:37.636889Z"
    }
   },
   "outputs": [
    {
     "data": {
      "text/plain": [
       "'trained_models\\\\model_vit_2024_12_30_23_49_37.pickle'"
      ]
     },
     "execution_count": 26,
     "metadata": {},
     "output_type": "execute_result"
    }
   ],
   "source": [
    "model_handler.save_raw_model(model)\n",
    "model_handler.save_model(\n",
    "    model=model,\n",
    "    metrics = measures,\n",
    "    model_type=ModelType.VIT,\n",
    "    epoch=epochs,\n",
    ")"
   ]
  }
 ],
 "metadata": {
  "kernelspec": {
   "display_name": "Python 3",
   "language": "python",
   "name": "python3"
  },
  "language_info": {
   "codemirror_mode": {
    "name": "ipython",
    "version": 2
   },
   "file_extension": ".py",
   "mimetype": "text/x-python",
   "name": "python",
   "nbconvert_exporter": "python",
   "pygments_lexer": "ipython2",
   "version": "2.7.6"
  }
 },
 "nbformat": 4,
 "nbformat_minor": 5
}
