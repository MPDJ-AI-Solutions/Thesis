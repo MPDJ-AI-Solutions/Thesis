{
 "cells": [
  {
   "metadata": {},
   "cell_type": "markdown",
   "source": "# Environment setup",
   "id": "bd2788c92659ad2f"
  },
  {
   "cell_type": "code",
   "id": "initial_id",
   "metadata": {
    "collapsed": true,
    "ExecuteTime": {
     "end_time": "2024-12-14T20:00:39.304781Z",
     "start_time": "2024-12-14T20:00:32.095827Z"
    }
   },
   "source": [
    "import torch\n",
    "from torch import nn\n",
    "from torch.utils.data import DataLoader\n",
    "from torchvision.transforms import transforms\n",
    "from typing import Optional, Type\n",
    "\n",
    "from transformers import DetrConfig, DetrForObjectDetection\n",
    "\n",
    "from dataset.dataset_info import ClassifierDatasetInfo, DatasetInfo\n",
    "from dataset.dataset_type import DatasetType\n",
    "from dataset.STARCOP_dataset import STARCOPDataset\n",
    "\n",
    "from models.Tools.FilesHandler.model_files_handler import ModelFilesHandler\n",
    "from models.Tools.Measures.measure_tool_factory import MeasureToolFactory\n",
    "from models.Tools.Measures.model_type import ModelType\n",
    "\n",
    "import os\n",
    "import sys\n",
    "os.chdir(r\"C:\\Users\\mpilc\\Desktop\\Studia\\Thesis\\Repozytoria\\Thesis\")"
   ],
   "outputs": [
    {
     "name": "stderr",
     "output_type": "stream",
     "text": [
      "C:\\Users\\mpilc\\Desktop\\Studia\\Thesis\\Repozytoria\\Thesis\\venv\\Lib\\site-packages\\tqdm\\auto.py:21: TqdmWarning: IProgress not found. Please update jupyter and ipywidgets. See https://ipywidgets.readthedocs.io/en/stable/user_install.html\n",
      "  from .autonotebook import tqdm as notebook_tqdm\n"
     ]
    }
   ],
   "execution_count": 1
  },
  {
   "metadata": {},
   "cell_type": "markdown",
   "source": [
    "## Setup datasets\n",
    "STARCOPDataset is custom class that derives torch.utils.data.Dataset class. It's defined in dataset module.  "
   ],
   "id": "f1080e782a0be239"
  },
  {
   "metadata": {
    "ExecuteTime": {
     "end_time": "2024-12-14T20:00:39.327629Z",
     "start_time": "2024-12-14T20:00:39.322411Z"
    }
   },
   "cell_type": "code",
   "source": [
    "def setup_dataloaders(\n",
    "        data_path: str = r\"data\",\n",
    "        batch_size: int = 32,\n",
    "        train_type = DatasetType.EASY_TRAIN,\n",
    "        image_info_class: Type[DatasetInfo] = ClassifierDatasetInfo,\n",
    "        crop_size: int = 1\n",
    "):\n",
    "    train_dataset = STARCOPDataset(\n",
    "        data_path=data_path,\n",
    "        data_type=train_type,\n",
    "        image_info_class=image_info_class,\n",
    "        crop_size=crop_size\n",
    "    )\n",
    "    train_dataloader = DataLoader(train_dataset, batch_size=batch_size, shuffle=True)\n",
    "\n",
    "    test_dataset = STARCOPDataset(\n",
    "        data_path=data_path,\n",
    "        data_type=DatasetType.TEST,\n",
    "        image_info_class=image_info_class,\n",
    "        crop_size=crop_size\n",
    "    )\n",
    "    test_dataloader = DataLoader(test_dataset, batch_size=batch_size, shuffle=True)\n",
    "\n",
    "    return train_dataloader, test_dataloader"
   ],
   "id": "633a22ebce25443b",
   "outputs": [],
   "execution_count": 2
  },
  {
   "metadata": {},
   "cell_type": "markdown",
   "source": [
    "## Setup models\n",
    "\n",
    "### Model class"
   ],
   "id": "55aade7bf5249f30"
  },
  {
   "metadata": {
    "ExecuteTime": {
     "end_time": "2024-12-14T20:00:39.744677Z",
     "start_time": "2024-12-14T20:00:39.739519Z"
    }
   },
   "cell_type": "code",
   "source": [
    "class CustomDetrForClassification(nn.Module):\n",
    "    def __init__(self, detr_model_name=\"facebook/detr-resnet-50\", num_channels=9, num_classes=2):\n",
    "        super().__init__()\n",
    "\n",
    "        # Load pre-trained DETR model\n",
    "        config = DetrConfig.from_pretrained(detr_model_name)\n",
    "        config.num_labels = num_classes  # Number of classification labels\n",
    "        config.use_decoder = True  # Ensure the decoder is retained for processing queries\n",
    "        config.output_hidden_states = True  # Ensure hidden states are returned\n",
    "        self.detr = DetrForObjectDetection(config=config)\n",
    "\n",
    "        # Modify the first convolutional layer of the backbone to accept 9 channels\n",
    "        backbone = self.detr.model.backbone\n",
    "        conv1 = backbone.conv_encoder.model.conv1\n",
    "        new_conv1 = nn.Conv2d(\n",
    "            in_channels=num_channels,\n",
    "            out_channels=conv1.out_channels,\n",
    "            kernel_size=conv1.kernel_size,\n",
    "            stride=conv1.stride,\n",
    "            padding=conv1.padding,\n",
    "            bias=conv1.bias,\n",
    "        )\n",
    "\n",
    "        # Replace the original conv1 with the new one\n",
    "        backbone.conv_encoder.model.conv1 = new_conv1\n",
    "\n",
    "        # Freeze backbone layers except the first conv layer\n",
    "        for name, param in backbone.named_parameters():\n",
    "            if \"conv1\" in name:\n",
    "                param.requires_grad = True\n",
    "            else:\n",
    "                param.requires_grad = False\n",
    "\n",
    "        # Add a classification head to process the outputs of the decoder\n",
    "        hidden_size = config.d_model\n",
    "        self.classifier = nn.Linear(hidden_size, num_classes)\n",
    "\n",
    "    def forward(self, pixel_values):\n",
    "        # Pass inputs through DETR backbone and transformer\n",
    "        outputs = self.detr.model(pixel_values)\n",
    "\n",
    "        # Extract decoder output (shape: batch_size, num_queries, d_model)\n",
    "        decoder_output = outputs.decoder_hidden_states[-1]\n",
    "\n",
    "        # Apply classification head (average over all queries)\n",
    "        logits = self.classifier(decoder_output.mean(dim=1))  # (batch_size, num_classes)\n",
    "\n",
    "        return logits"
   ],
   "id": "8f28a27507f2ad99",
   "outputs": [],
   "execution_count": 3
  },
  {
   "metadata": {},
   "cell_type": "markdown",
   "source": "### Prepare models ",
   "id": "35324cba37646987"
  },
  {
   "metadata": {
    "ExecuteTime": {
     "end_time": "2024-12-14T20:00:39.751320Z",
     "start_time": "2024-12-14T20:00:39.748253Z"
    }
   },
   "cell_type": "code",
   "source": [
    "def setup_model(model: nn.Module, lr: float, device: str):\n",
    "    model = model.to(device)\n",
    "\n",
    "    criterion = nn.CrossEntropyLoss()  # Binary classification\n",
    "    optimizer = torch.optim.Adam(model.parameters(), lr=lr)\n",
    "\n",
    "    return model, criterion, optimizer"
   ],
   "id": "4fbb9f2106cd78f2",
   "outputs": [],
   "execution_count": 4
  },
  {
   "metadata": {},
   "cell_type": "markdown",
   "source": "## Prepare training function",
   "id": "ef59708b5382f94"
  },
  {
   "metadata": {
    "ExecuteTime": {
     "end_time": "2024-12-14T20:00:39.801603Z",
     "start_time": "2024-12-14T20:00:39.798071Z"
    }
   },
   "cell_type": "code",
   "source": [
    "def print_progress_bar(percentage, loss):\n",
    "    bar_length = 50  # Length of the progress bar\n",
    "    filled_length = int(bar_length * percentage // 100)\n",
    "    bar = '=' * filled_length + '-' * (bar_length - filled_length)\n",
    "    sys.stdout.write(f\"\\r[{bar}] {percentage:.2f}% [Loss: {loss:.6f}]\")\n",
    "    sys.stdout.flush()"
   ],
   "id": "ac3224cd7ff8f852",
   "outputs": [],
   "execution_count": 5
  },
  {
   "metadata": {
    "ExecuteTime": {
     "end_time": "2024-12-14T20:00:39.813560Z",
     "start_time": "2024-12-14T20:00:39.809304Z"
    }
   },
   "cell_type": "code",
   "source": [
    "def train(criterion, device, epochs, model, optimizer, dataloader, model_handler, log_batches: bool = False):\n",
    "    model.train()\n",
    "    for epoch in range(epochs):\n",
    "        print(f\"Epoch: {epoch}\")\n",
    "        running_loss = 0.0\n",
    "        for batch_id, (images, mag1c, labels) in enumerate(dataloader):\n",
    "            optimizer.zero_grad()\n",
    "\n",
    "            input_image = torch.cat((images, mag1c), dim=1).to(device)\n",
    "            labels = labels.long().to(device)\n",
    "\n",
    "            outputs = model(input_image)\n",
    "\n",
    "            loss = criterion(outputs, labels)\n",
    "            loss.backward()\n",
    "            optimizer.step()\n",
    "            running_loss += loss.item()\n",
    "\n",
    "            if log_batches and (batch_id + 1) % 10 == 0:\n",
    "                print_progress_bar(batch_id / len(dataloader) * 100, running_loss / (batch_id + 1))\n",
    "\n",
    "        print(f\"Epoch {epoch + 1}, Loss: {running_loss / len(dataloader)}\")\n",
    "        model_handler.save_raw_model(model)"
   ],
   "id": "b4c4eb62cccb104c",
   "outputs": [],
   "execution_count": 6
  },
  {
   "metadata": {},
   "cell_type": "markdown",
   "source": "## Prepare evaluate function",
   "id": "ead9dd1c2d9c4483"
  },
  {
   "metadata": {
    "ExecuteTime": {
     "end_time": "2024-12-14T20:00:39.831511Z",
     "start_time": "2024-12-14T20:00:39.827949Z"
    }
   },
   "cell_type": "code",
   "source": [
    "def evaluate(criterion, device, model, dataloader, measurer):\n",
    "    model.eval()\n",
    "    all_predictions = []\n",
    "    all_labels = []\n",
    "    running_loss = 0.0\n",
    "\n",
    "    for batch_id, (images, mag1c, labels) in enumerate(dataloader):\n",
    "        input_image = torch.cat((images, mag1c), dim=1).to(device)\n",
    "        labels = labels.long().to(device)\n",
    "\n",
    "        outputs = model(input_image)\n",
    "        predictions = torch.argmax(outputs, dim=1)\n",
    "        loss = criterion(outputs, labels)\n",
    "\n",
    "        running_loss += loss.item()\n",
    "        all_predictions.append(predictions.cpu().detach())\n",
    "        all_labels.append(labels.cpu().detach())\n",
    "\n",
    "    measures = measurer.compute_measures(torch.cat(all_predictions), torch.cat(all_labels))\n",
    "    print(f\"Validation loss: {running_loss / len(dataloader)}.\\nMeasures:\\n{measures}\")\n",
    "    return measures"
   ],
   "id": "deed82ce61ddca3f",
   "outputs": [],
   "execution_count": 7
  },
  {
   "metadata": {},
   "cell_type": "markdown",
   "source": "# Train model ",
   "id": "5a5f24876565680a"
  },
  {
   "metadata": {
    "ExecuteTime": {
     "end_time": "2024-12-14T22:12:04.745555Z",
     "start_time": "2024-12-14T20:00:39.837230Z"
    }
   },
   "cell_type": "code",
   "source": [
    "epochs = 15\n",
    "device = \"cuda\" if torch.cuda.is_available() else \"cpu\"\n",
    "lr = 1e-4\n",
    "\n",
    "# Override for file handler\n",
    "from models.Transformer.DETR.model import CustomDetrForClassification\n",
    "\n",
    "\n",
    "train_dataloader, test_dataloader = setup_dataloaders(batch_size=16, train_type=DatasetType.TRAIN)\n",
    "model = CustomDetrForClassification()\n",
    "model, criterion, optimizer = setup_model(model, lr, device)\n",
    "model_handler = ModelFilesHandler()\n",
    "measurer = MeasureToolFactory.get_measure_tool(ModelType.TRANSFORMER)\n",
    "\n",
    "train(criterion, device, epochs, model, optimizer, train_dataloader, model_handler, log_batches = True)\n",
    "measures = evaluate(criterion, device, model, test_dataloader, measurer)\n"
   ],
   "id": "72d2ee60759244d",
   "outputs": [
    {
     "name": "stdout",
     "output_type": "stream",
     "text": [
      "Epoch: 0\n",
      "[================================================--] 97.66% [Loss: 0.742156]Epoch 1, Loss: 0.7414349470740167\n",
      "Epoch: 1\n",
      "[================================================--] 97.66% [Loss: 0.591770]Epoch 2, Loss: 0.5882870984550949\n",
      "Epoch: 2\n",
      "[================================================--] 97.66% [Loss: 0.378611]Epoch 3, Loss: 0.37815055084005694\n",
      "Epoch: 3\n",
      "[================================================--] 97.66% [Loss: 0.322228]Epoch 4, Loss: 0.3227138383679579\n",
      "Epoch: 4\n",
      "[================================================--] 97.66% [Loss: 0.317567]Epoch 5, Loss: 0.3182809270970593\n",
      "Epoch: 5\n",
      "[================================================--] 97.66% [Loss: 0.297374]Epoch 6, Loss: 0.29851702195113505\n",
      "Epoch: 6\n",
      "[================================================--] 97.66% [Loss: 0.266864]Epoch 7, Loss: 0.2650826352726773\n",
      "Epoch: 7\n",
      "[================================================--] 97.66% [Loss: 0.245509]Epoch 8, Loss: 0.24512897567632042\n",
      "Epoch: 8\n",
      "[================================================--] 97.66% [Loss: 0.226519]Epoch 9, Loss: 0.22683444829814345\n",
      "Epoch: 9\n",
      "[================================================--] 97.66% [Loss: 0.316661]Epoch 10, Loss: 0.31401068725945236\n",
      "Epoch: 10\n",
      "[================================================--] 97.66% [Loss: 0.270238]Epoch 11, Loss: 0.2705473866244064\n",
      "Epoch: 11\n",
      "[================================================--] 97.66% [Loss: 0.240099]Epoch 12, Loss: 0.23915003160032156\n",
      "Epoch: 12\n",
      "[================================================--] 97.66% [Loss: 0.244867]Epoch 13, Loss: 0.24451553951252566\n",
      "Epoch: 13\n",
      "[================================================--] 97.66% [Loss: 0.215873]Epoch 14, Loss: 0.21800725350904965\n",
      "Epoch: 14\n",
      "[================================================--] 97.66% [Loss: 0.212030]Epoch 15, Loss: 0.21386136239063797\n",
      "Validation loss: 0.2711253989149224.\n",
      "Measures:\n",
      "         TP        FP        FN        TN  Precision  Sensitivity  \\\n",
      "0  0.375367  0.014663  0.111437  0.498534   0.962404     0.771083   \n",
      "\n",
      "   Specificity       NPV       FPR  Accuracy   F-Score       IoU       MCC  \\\n",
      "0     0.971427  0.817306  0.028571  0.873899  0.856185  0.748538  0.760883   \n",
      "\n",
      "        AUC        CI  \n",
      "0  0.871256  0.051847  \n"
     ]
    }
   ],
   "execution_count": 8
  },
  {
   "metadata": {},
   "cell_type": "markdown",
   "source": "# Save model",
   "id": "e519706b2f962064"
  },
  {
   "metadata": {
    "ExecuteTime": {
     "end_time": "2024-12-15T10:44:05.126320Z",
     "start_time": "2024-12-15T10:44:05.123222Z"
    }
   },
   "cell_type": "code",
   "source": [
    "model_handler.save_model(\n",
    "    model=model,\n",
    "    metrics = measures,\n",
    "    model_type=ModelType.DETR,\n",
    "    epoch=epochs,\n",
    ")"
   ],
   "id": "d1aae91ca9193b16",
   "outputs": [
    {
     "name": "stdout",
     "output_type": "stream",
     "text": [
      "'trained_models\\\\model_detr_2024_12_15_11_35_17.pickle'\n"
     ]
    }
   ],
   "execution_count": 3
  }
 ],
 "metadata": {
  "kernelspec": {
   "display_name": "Python 3",
   "language": "python",
   "name": "python3"
  },
  "language_info": {
   "codemirror_mode": {
    "name": "ipython",
    "version": 2
   },
   "file_extension": ".py",
   "mimetype": "text/x-python",
   "name": "python",
   "nbconvert_exporter": "python",
   "pygments_lexer": "ipython2",
   "version": "2.7.6"
  }
 },
 "nbformat": 4,
 "nbformat_minor": 5
}
