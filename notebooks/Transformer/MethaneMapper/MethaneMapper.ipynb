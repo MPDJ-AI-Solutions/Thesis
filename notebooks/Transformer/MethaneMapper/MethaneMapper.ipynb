{
 "cells": [
  {
   "metadata": {},
   "cell_type": "markdown",
   "source": "# Environment setup",
   "id": "bd2788c92659ad2f"
  },
  {
   "cell_type": "code",
   "id": "initial_id",
   "metadata": {
    "collapsed": true,
    "ExecuteTime": {
     "end_time": "2024-11-30T09:27:54.719784Z",
     "start_time": "2024-11-30T09:27:45.164395Z"
    }
   },
   "source": [
    "import torch\n",
    "from torch import nn\n",
    "from torch.utils.data import DataLoader\n",
    "from torchvision.transforms import transforms\n",
    "from typing import Optional\n",
    "\n",
    "from transformers import DetrConfig, DetrForObjectDetection\n",
    "\n",
    "from dataset.dataset_info import ClassifierDatasetInfo, MMClassifierDatasetInfo\n",
    "from dataset.dataset_type import DatasetType\n",
    "from dataset.STARCOP_dataset import STARCOPDataset\n",
    "\n",
    "from models.Tools.FilesHandler.model_files_handler import ModelFilesHandler\n",
    "from models.Tools.Measures.measure_tool_factory import MeasureToolFactory\n",
    "from models.Tools.Measures.model_type import ModelType as MeasuresModelType\n",
    "\n",
    "import os\n",
    "import sys\n",
    "os.chdir(r\"C:\\Users\\mpilc\\Desktop\\Studia\\Thesis\\Repozytoria\\Thesis\")"
   ],
   "outputs": [
    {
     "name": "stderr",
     "output_type": "stream",
     "text": [
      "C:\\Users\\mpilc\\Desktop\\Studia\\Thesis\\Repozytoria\\Thesis\\venv\\Lib\\site-packages\\tqdm\\auto.py:21: TqdmWarning: IProgress not found. Please update jupyter and ipywidgets. See https://ipywidgets.readthedocs.io/en/stable/user_install.html\n",
      "  from .autonotebook import tqdm as notebook_tqdm\n"
     ]
    }
   ],
   "execution_count": 1
  },
  {
   "metadata": {},
   "cell_type": "markdown",
   "source": [
    "## Setup datasets\n",
    "STARCOPDataset is custom class that derives torch.utils.data.Dataset class. It's defined in dataset module.  "
   ],
   "id": "f1080e782a0be239"
  },
  {
   "metadata": {
    "ExecuteTime": {
     "end_time": "2024-11-30T09:27:54.728294Z",
     "start_time": "2024-11-30T09:27:54.724156Z"
    }
   },
   "cell_type": "code",
   "source": [
    "from typing import Type\n",
    "from dataset.dataset_info import DatasetInfo\n",
    "\n",
    "\n",
    "def setup_dataloaders(\n",
    "        data_path: str = r\"data\",\n",
    "        batch_size: int = 32,\n",
    "        train_type = DatasetType.EASY_TRAIN,\n",
    "        image_info_class: Type[DatasetInfo] = ClassifierDatasetInfo,\n",
    "        crop_size: int = 1\n",
    "):\n",
    "    train_dataset = STARCOPDataset(\n",
    "        data_path=data_path,\n",
    "        data_type=train_type,\n",
    "        image_info_class=image_info_class,\n",
    "        crop_size=crop_size\n",
    "    )\n",
    "    train_dataloader = DataLoader(train_dataset, batch_size=batch_size, shuffle=True)\n",
    "\n",
    "    test_dataset = STARCOPDataset(\n",
    "        data_path=data_path,\n",
    "        data_type=DatasetType.TEST,\n",
    "        image_info_class=image_info_class,\n",
    "        crop_size=crop_size\n",
    "    )\n",
    "    test_dataloader = DataLoader(test_dataset, batch_size=batch_size // 2, shuffle=True)\n",
    "\n",
    "    return train_dataloader, test_dataloader"
   ],
   "id": "633a22ebce25443b",
   "outputs": [],
   "execution_count": 2
  },
  {
   "metadata": {},
   "cell_type": "markdown",
   "source": [
    "## Setup models\n",
    "\n",
    "### Model class"
   ],
   "id": "55aade7bf5249f30"
  },
  {
   "metadata": {
    "ExecuteTime": {
     "end_time": "2024-11-30T09:27:54.999339Z",
     "start_time": "2024-11-30T09:27:54.992666Z"
    }
   },
   "cell_type": "code",
   "source": [
    "from models.Transformer.MethaneMapper.Segmentation.bbox_prediction import BBoxPrediction\n",
    "from models.Transformer.MethaneMapper.Segmentation.segmentation import BoxAndMaskPredictor\n",
    "from models.Transformer.MethaneMapper.Classification.classification import ClassifierPredictor\n",
    "from models.Transformer.MethaneMapper.Transformer.hyperspectral_decoder import HyperspectralDecoder\n",
    "from models.Transformer.MethaneMapper.Transformer.query_refiner import QueryRefiner\n",
    "from models.Transformer.MethaneMapper.Transformer.encoder import Encoder\n",
    "from models.Transformer.MethaneMapper.Transformer.position_encoding import PositionalEncodingMM\n",
    "from models.Transformer.MethaneMapper.SpectralFeatureGenerator.spectral_feature_generator import \\\n",
    "    SpectralFeatureGenerator\n",
    "from models.Transformer.MethaneMapper.Backbone.backbone import Backbone\n",
    "from models.Transformer.MethaneMapper.model_type import ModelType\n",
    "\n",
    "class TransformerModel(nn.Module):\n",
    "    \"\"\"\n",
    "    TODO docs, verification, tests\n",
    "    \"\"\"\n",
    "\n",
    "    def __init__(self,\n",
    "                 d_model: int = 256,\n",
    "                 backbone_out_channels: int = 2048,\n",
    "                 image_height: int = 512,\n",
    "                 image_width: int = 512,\n",
    "                 attention_heads: int = 8,\n",
    "                 n_encoder_layers: int = 6,\n",
    "                 n_decoder_layers: int = 6,\n",
    "                 n_queries: int = 100,\n",
    "                 threshold: float = 0.5,\n",
    "                 model_type: ModelType = ModelType.CLASSIFICATION,\n",
    "                 ):\n",
    "        super(TransformerModel, self).__init__()\n",
    "\n",
    "        self.d_model = d_model\n",
    "\n",
    "        self.backbone = Backbone(d_model=d_model, rgb_channels=3, swir_channels=5, out_channels=backbone_out_channels)\n",
    "        self.spectral_feature_generator = SpectralFeatureGenerator(d_model=d_model)\n",
    "\n",
    "        self.positional_encoding = PositionalEncodingMM(\n",
    "            d_model=d_model\n",
    "        )\n",
    "        self.encoder = Encoder(d_model=d_model, n_heads=attention_heads, num_layers=n_encoder_layers)\n",
    "\n",
    "        self.query_refiner = QueryRefiner(d_model=d_model, num_heads=attention_heads, num_queries=n_queries)\n",
    "        self.decoder = HyperspectralDecoder(d_model=d_model, n_heads=attention_heads, num_layers=n_decoder_layers)\n",
    "\n",
    "\n",
    "        self.head = None\n",
    "        match model_type:\n",
    "            case ModelType.CLASSIFICATION:\n",
    "                self.head = ClassifierPredictor(\n",
    "                    num_classes=2,\n",
    "                    embedding_dim=d_model,\n",
    "                )\n",
    "            case ModelType.SEGMENTATION:\n",
    "                self.head = BoxAndMaskPredictor(\n",
    "                    result_width=image_width,\n",
    "                    result_height=image_height,\n",
    "                    fpn_channels=backbone_out_channels,\n",
    "                    embedding_dim=d_model,\n",
    "                )\n",
    "            case ModelType.ONLY_BBOX:\n",
    "                self.head = BBoxPrediction(d_model=d_model)\n",
    "\n",
    "    def forward(self, image: torch.Tensor, filtered_image: torch.Tensor) -> tuple[\n",
    "        torch.Tensor, torch.Tensor, torch.Tensor]:\n",
    "        \"\"\"\n",
    "        TODO docs, tests\n",
    "        \"\"\"\n",
    "        # get image size\n",
    "        batch_size, channels, height, width = image.shape\n",
    "\n",
    "        f_comb_proj, f_comb = self.backbone(image)\n",
    "\n",
    "        positional_encoding = self.positional_encoding(f_comb)[0].expand(batch_size, -1, -1, -1)\n",
    "\n",
    "        f_mc = self.spectral_feature_generator(filtered_image)\n",
    "        f_mc = f_mc.permute(0, 2, 3, 1)\n",
    "\n",
    "        q_ref = self.query_refiner(f_mc)\n",
    "        f_e = self.encoder((f_comb_proj + positional_encoding).flatten(2).permute(0, 2, 1))\n",
    "\n",
    "\n",
    "        e_out = self.decoder(\n",
    "            (f_e.permute(0, 2, 1).view(batch_size, -1, int(height / 32), int(width / 32)) + positional_encoding).flatten(2).permute(0, 2, 1),\n",
    "            q_ref\n",
    "        )\n",
    "\n",
    "        result = self.head(e_out, f_e)\n",
    "\n",
    "        return result"
   ],
   "id": "8f28a27507f2ad99",
   "outputs": [],
   "execution_count": 3
  },
  {
   "metadata": {},
   "cell_type": "markdown",
   "source": "### Prepare models ",
   "id": "35324cba37646987"
  },
  {
   "metadata": {
    "ExecuteTime": {
     "end_time": "2024-11-30T09:27:55.015338Z",
     "start_time": "2024-11-30T09:27:55.010994Z"
    }
   },
   "cell_type": "code",
   "source": [
    "def setup_model(model: nn.Module, lr: float, device: str):\n",
    "    model = model.to(device)\n",
    "\n",
    "    criterion = nn.CrossEntropyLoss()  # Binary classification\n",
    "    optimizer = torch.optim.Adam(model.parameters(), lr=lr)\n",
    "\n",
    "    return model, criterion, optimizer"
   ],
   "id": "4fbb9f2106cd78f2",
   "outputs": [],
   "execution_count": 4
  },
  {
   "metadata": {},
   "cell_type": "markdown",
   "source": "## Prepare training function",
   "id": "ef59708b5382f94"
  },
  {
   "metadata": {},
   "cell_type": "code",
   "outputs": [],
   "execution_count": null,
   "source": [
    "def print_progress_bar(percentage, loss):\n",
    "    bar_length = 50  # Length of the progress bar\n",
    "    filled_length = int(bar_length * percentage // 100)\n",
    "    bar = '=' * filled_length + '-' * (bar_length - filled_length)\n",
    "    sys.stdout.write(f\"\\r[{bar}] {percentage:.2f}% [Loss: {loss:.6f}]\")\n",
    "    sys.stdout.flush()"
   ],
   "id": "ac3224cd7ff8f852"
  },
  {
   "metadata": {
    "ExecuteTime": {
     "end_time": "2024-11-30T09:27:55.029426Z",
     "start_time": "2024-11-30T09:27:55.023698Z"
    }
   },
   "cell_type": "code",
   "source": [
    "def train(criterion, device, epochs, model, optimizer, dataloader, model_handler,  log_batches: bool = False):\n",
    "    model.train()\n",
    "    for epoch in range(epochs):  # Adjust the number of epochs\n",
    "        running_loss = 0.0\n",
    "        for batch_id, (images, mag1c, filtered_image, labels) in enumerate(dataloader):  # Assume a PyTorch DataLoader is set up\n",
    "            optimizer.zero_grad()\n",
    "\n",
    "            input_image = torch.cat((images, mag1c), dim=1).to(device)\n",
    "            filtered_image.to(device)\n",
    "            labels = labels.long().to(device)\n",
    "\n",
    "            outputs = model(input_image, filtered_image)\n",
    "\n",
    "            loss = criterion(outputs, labels)\n",
    "            loss.backward()\n",
    "            optimizer.step()\n",
    "            running_loss += loss.item()\n",
    "\n",
    "            if log_batches and (batch_id + 1) % 10 == 0:\n",
    "                print_progress_bar(batch_id / len(dataloader) * 100, running_loss / (batch_id + 1))\n",
    "\n",
    "        print(f\"Epoch {epoch + 1}, Loss: {running_loss / len(dataloader)}\")\n",
    "        model_handler.save_raw_model(model)"
   ],
   "id": "b4c4eb62cccb104c",
   "outputs": [],
   "execution_count": 5
  },
  {
   "metadata": {},
   "cell_type": "markdown",
   "source": "## Prepare evaluate function",
   "id": "ead9dd1c2d9c4483"
  },
  {
   "metadata": {
    "ExecuteTime": {
     "end_time": "2024-11-30T09:27:55.064090Z",
     "start_time": "2024-11-30T09:27:55.057669Z"
    }
   },
   "cell_type": "code",
   "source": [
    "def evaluate(criterion, device, model, dataloader, measurer):\n",
    "    model.eval()\n",
    "    all_predictions = []\n",
    "    all_labels = []\n",
    "    running_loss = 0.0\n",
    "\n",
    "    for batch_id, (images, mag1c, filtered_image, labels) in enumerate(dataloader):\n",
    "        input_image = torch.cat((images, mag1c), dim=1).to(device)\n",
    "        filtered_image = filtered_image.to(device)\n",
    "        labels = labels.long().to(device)\n",
    "\n",
    "        outputs = model(input_image, filtered_image)\n",
    "\n",
    "        predictions = torch.argmax(outputs, dim=1)\n",
    "        loss = criterion(outputs, labels)\n",
    "\n",
    "        running_loss += loss.item()\n",
    "        all_predictions.append(predictions.cpu().detach())\n",
    "        all_labels.append(labels.cpu().detach())\n",
    "\n",
    "    measures = measurer.compute_measures(torch.cat(all_predictions), torch.cat(all_labels))\n",
    "    print(f\"Validation loss: {running_loss / len(dataloader)}.\\nMeasures:\\n{measures}\")\n",
    "    return measures"
   ],
   "id": "deed82ce61ddca3f",
   "outputs": [],
   "execution_count": 6
  },
  {
   "metadata": {},
   "cell_type": "markdown",
   "source": "# Train model ",
   "id": "5a5f24876565680a"
  },
  {
   "metadata": {
    "ExecuteTime": {
     "end_time": "2024-11-30T09:34:58.254719Z",
     "start_time": "2024-11-30T09:27:55.072484Z"
    }
   },
   "cell_type": "code",
   "source": [
    "epochs = 15\n",
    "device = \"cuda\" if torch.cuda.is_available() else \"cpu\"\n",
    "lr = 1e-4\n",
    "\n",
    "# Override for file handler\n",
    "from models.Transformer.DETR.model import CustomDetrForClassification\n",
    "\n",
    "\n",
    "train_dataloader, test_dataloader = setup_dataloaders(\n",
    "        batch_size=4,\n",
    "        image_info_class=MMClassifierDatasetInfo,\n",
    "        crop_size=1,\n",
    "        train_type=DatasetType.TRAIN,\n",
    "    )\n",
    "model = TransformerModel(\n",
    "    n_queries=5,\n",
    "    n_decoder_layers=5,\n",
    "    n_encoder_layers=5,\n",
    "    d_model=256,\n",
    ")\n",
    "model, criterion, optimizer = setup_model(model, lr, device)\n",
    "model_handler = ModelFilesHandler()\n",
    "measurer = MeasureToolFactory.get_measure_tool(MeasuresModelType.TRANSFORMER)\n",
    "\n",
    "train(criterion, device, epochs, model, optimizer, train_dataloader, model_handler, log_batches=True)\n",
    "measures = evaluate(criterion, device, model, test_dataloader, measurer)\n"
   ],
   "id": "72d2ee60759244d",
   "outputs": [
    {
     "name": "stdout",
     "output_type": "stream",
     "text": [
      "Batch: 10, Loss: 0.5412002682685852\n",
      "Batch: 20, Loss: 0.5053449302911759\n",
      "Batch: 30, Loss: 0.5086511532465617\n",
      "Epoch 1, Loss: 0.506503506217684\n",
      "Validation loss: 0.819070270115679.\n",
      "Measures:\n",
      "         TP        FP        FN        TN  Precision  Sensitivity  \\\n",
      "0  0.164223  0.041056  0.322581  0.472141   0.799996     0.337349   \n",
      "\n",
      "   Specificity       NPV   FPR  Accuracy   F-Score       IoU       MCC  \\\n",
      "0     0.919998  0.594095  0.08  0.636363  0.474574  0.311111  0.318464   \n",
      "\n",
      "        AUC        CI  \n",
      "0  0.628675  0.042933  \n"
     ]
    }
   ],
   "execution_count": 7
  },
  {
   "metadata": {},
   "cell_type": "markdown",
   "source": "# Save model",
   "id": "e519706b2f962064"
  },
  {
   "metadata": {
    "ExecuteTime": {
     "end_time": "2024-11-30T09:34:58.577193Z",
     "start_time": "2024-11-30T09:34:58.323067Z"
    }
   },
   "cell_type": "code",
   "source": [
    "model_handler.save_model(\n",
    "    model=model,\n",
    "    metrics = measures,\n",
    "    model_type=MeasuresModelType.TRANSFORMER_CLASSIFIER,\n",
    "    epoch=epochs,\n",
    ")"
   ],
   "id": "d1aae91ca9193b16",
   "outputs": [
    {
     "data": {
      "text/plain": [
       "'trained_models\\\\model_transformer_classifier_2024_11_30_10_34_58.pickle'"
      ]
     },
     "execution_count": 8,
     "metadata": {},
     "output_type": "execute_result"
    }
   ],
   "execution_count": 8
  }
 ],
 "metadata": {
  "kernelspec": {
   "display_name": "Python 3",
   "language": "python",
   "name": "python3"
  },
  "language_info": {
   "codemirror_mode": {
    "name": "ipython",
    "version": 2
   },
   "file_extension": ".py",
   "mimetype": "text/x-python",
   "name": "python",
   "nbconvert_exporter": "python",
   "pygments_lexer": "ipython2",
   "version": "2.7.6"
  }
 },
 "nbformat": 4,
 "nbformat_minor": 5
}
