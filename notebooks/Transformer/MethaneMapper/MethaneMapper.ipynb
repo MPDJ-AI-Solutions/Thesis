{
 "cells": [
  {
   "metadata": {},
   "cell_type": "markdown",
   "source": "# Environment setup",
   "id": "bd2788c92659ad2f"
  },
  {
   "cell_type": "code",
   "id": "initial_id",
   "metadata": {
    "collapsed": true,
    "ExecuteTime": {
     "end_time": "2024-12-15T23:07:57.258450Z",
     "start_time": "2024-12-15T23:07:54.828633Z"
    }
   },
   "source": [
    "import torch\n",
    "from torch import nn\n",
    "from torch.utils.data import DataLoader\n",
    "\n",
    "from dataset.dataset_info import ClassifierDatasetInfo, MMClassifierDatasetInfo\n",
    "from dataset.dataset_type import DatasetType\n",
    "from dataset.STARCOP_dataset import STARCOPDataset\n",
    "\n",
    "from models.Tools.FilesHandler.model_files_handler import ModelFilesHandler\n",
    "from models.Tools.Measures.measure_tool_factory import MeasureToolFactory\n",
    "from models.Tools.Measures.model_type import ModelType as MeasuresModelType\n",
    "\n",
    "import os\n",
    "import sys\n",
    "os.chdir(r\"D:\\Projects\\studia\\polsl_ssi_1\\MethaneDetection\\Thesis\")"
   ],
   "outputs": [],
   "execution_count": 1
  },
  {
   "metadata": {},
   "cell_type": "markdown",
   "source": [
    "## Setup datasets\n",
    "STARCOPDataset is custom class that derives torch.utils.data.Dataset class. It's defined in dataset module.  "
   ],
   "id": "f1080e782a0be239"
  },
  {
   "metadata": {
    "ExecuteTime": {
     "end_time": "2024-12-15T23:07:57.268807Z",
     "start_time": "2024-12-15T23:07:57.261248Z"
    }
   },
   "cell_type": "code",
   "source": [
    "from typing import Type\n",
    "from dataset.dataset_info import DatasetInfo\n",
    "\n",
    "\n",
    "def setup_dataloaders(\n",
    "        data_path: str = r\"data\",\n",
    "        batch_size: int = 32,\n",
    "        train_type = DatasetType.EASY_TRAIN,\n",
    "        image_info_class: Type[DatasetInfo] = ClassifierDatasetInfo,\n",
    "        crop_size: int = 1\n",
    "):\n",
    "    train_dataset = STARCOPDataset(\n",
    "        data_path=data_path,\n",
    "        data_type=train_type,\n",
    "        image_info_class=image_info_class,\n",
    "        crop_size=crop_size\n",
    "    )\n",
    "    train_dataloader = DataLoader(train_dataset, batch_size=batch_size, shuffle=True)\n",
    "\n",
    "    test_dataset = STARCOPDataset(\n",
    "        data_path=data_path,\n",
    "        data_type=DatasetType.TEST,\n",
    "        image_info_class=image_info_class,\n",
    "        crop_size=crop_size\n",
    "    )\n",
    "    test_dataloader = DataLoader(test_dataset, batch_size=batch_size // 2, shuffle=True)\n",
    "\n",
    "    return train_dataloader, test_dataloader"
   ],
   "id": "633a22ebce25443b",
   "outputs": [],
   "execution_count": 2
  },
  {
   "metadata": {},
   "cell_type": "markdown",
   "source": [
    "## Setup models\n",
    "\n",
    "### Model class"
   ],
   "id": "55aade7bf5249f30"
  },
  {
   "metadata": {
    "ExecuteTime": {
     "end_time": "2024-12-15T23:07:57.282534Z",
     "start_time": "2024-12-15T23:07:57.270508Z"
    }
   },
   "cell_type": "code",
   "source": [
    "from models.Transformer.MethaneMapper.Segmentation.bbox_prediction import BBoxPrediction\n",
    "from models.Transformer.MethaneMapper.Segmentation.segmentation import BoxAndMaskPredictor\n",
    "from models.Transformer.MethaneMapper.Classification.classification import ClassifierPredictor\n",
    "from models.Transformer.MethaneMapper.Transformer.hyperspectral_decoder import HyperspectralDecoder\n",
    "from models.Transformer.MethaneMapper.Transformer.query_refiner import QueryRefiner\n",
    "from models.Transformer.MethaneMapper.Transformer.encoder import Encoder\n",
    "from models.Transformer.MethaneMapper.Transformer.position_encoding import PositionalEncodingMM\n",
    "from models.Transformer.MethaneMapper.SpectralFeatureGenerator.spectral_feature_generator import \\\n",
    "    SpectralFeatureGenerator\n",
    "from models.Transformer.MethaneMapper.Backbone.backbone import Backbone\n",
    "from models.Transformer.MethaneMapper.model_type import ModelType\n",
    "\n",
    "class TransformerModel(nn.Module):\n",
    "    \"\"\"\n",
    "    TODO docs, verification, tests\n",
    "    \"\"\"\n",
    "\n",
    "    def __init__(self,\n",
    "                 d_model: int = 256,\n",
    "                 backbone_out_channels: int = 2048,\n",
    "                 image_height: int = 512,\n",
    "                 image_width: int = 512,\n",
    "                 attention_heads: int = 8,\n",
    "                 n_encoder_layers: int = 6,\n",
    "                 n_decoder_layers: int = 6,\n",
    "                 n_queries: int = 100,\n",
    "                 threshold: float = 0.5,\n",
    "                 model_type: ModelType = ModelType.CLASSIFICATION,\n",
    "                 ):\n",
    "        super(TransformerModel, self).__init__()\n",
    "\n",
    "        self.d_model = d_model\n",
    "\n",
    "        self.backbone = Backbone(d_model=d_model, rgb_channels=3, swir_channels=5, out_channels=backbone_out_channels)\n",
    "        self.spectral_feature_generator = SpectralFeatureGenerator(d_model=d_model)\n",
    "\n",
    "        self.positional_encoding = PositionalEncodingMM(\n",
    "            d_model=d_model\n",
    "        )\n",
    "        self.encoder = Encoder(d_model=d_model, n_heads=attention_heads, num_layers=n_encoder_layers)\n",
    "\n",
    "        self.query_refiner = QueryRefiner(d_model=d_model, num_heads=attention_heads, num_queries=n_queries)\n",
    "        self.decoder = HyperspectralDecoder(d_model=d_model, n_heads=attention_heads, num_layers=n_decoder_layers)\n",
    "\n",
    "\n",
    "        self.head = None\n",
    "        match model_type:\n",
    "            case ModelType.CLASSIFICATION:\n",
    "                self.head = ClassifierPredictor(\n",
    "                    num_classes=2,\n",
    "                    embedding_dim=d_model,\n",
    "                )\n",
    "            case ModelType.SEGMENTATION:\n",
    "                self.head = BoxAndMaskPredictor(\n",
    "                    result_width=image_width,\n",
    "                    result_height=image_height,\n",
    "                    fpn_channels=backbone_out_channels,\n",
    "                    embedding_dim=d_model,\n",
    "                )\n",
    "            case ModelType.ONLY_BBOX:\n",
    "                self.head = BBoxPrediction(d_model=d_model)\n",
    "\n",
    "    def forward(self, image: torch.Tensor, filtered_image: torch.Tensor) -> tuple[\n",
    "        torch.Tensor, torch.Tensor, torch.Tensor]:\n",
    "        \"\"\"\n",
    "        TODO docs, tests\n",
    "        \"\"\"\n",
    "        # get image size\n",
    "        batch_size, channels, height, width = image.shape\n",
    "\n",
    "        f_comb_proj, f_comb = self.backbone(image)\n",
    "\n",
    "        positional_encoding = self.positional_encoding(f_comb)[0].expand(batch_size, -1, -1, -1)\n",
    "\n",
    "        f_mc = self.spectral_feature_generator(filtered_image)\n",
    "        f_mc = f_mc.permute(0, 2, 3, 1)\n",
    "\n",
    "        q_ref = self.query_refiner(f_mc)\n",
    "        f_e = self.encoder((f_comb_proj + positional_encoding).flatten(2).permute(0, 2, 1))\n",
    "\n",
    "\n",
    "        e_out = self.decoder(\n",
    "            (f_e.permute(0, 2, 1).view(batch_size, -1, int(height / 32), int(width / 32)) + positional_encoding).flatten(2).permute(0, 2, 1),\n",
    "            q_ref\n",
    "        )\n",
    "\n",
    "        result = self.head(e_out, f_e)\n",
    "\n",
    "        return result"
   ],
   "id": "8f28a27507f2ad99",
   "outputs": [],
   "execution_count": 3
  },
  {
   "metadata": {},
   "cell_type": "markdown",
   "source": "### Prepare models ",
   "id": "35324cba37646987"
  },
  {
   "metadata": {
    "ExecuteTime": {
     "end_time": "2024-12-15T23:07:57.398620Z",
     "start_time": "2024-12-15T23:07:57.395295Z"
    }
   },
   "cell_type": "code",
   "source": [
    "def setup_model(model: nn.Module, lr: float, device: str):\n",
    "    model = model.to(device)\n",
    "\n",
    "    criterion = nn.CrossEntropyLoss()  # Binary classification\n",
    "    optimizer = torch.optim.Adam(model.parameters(), lr=lr)\n",
    "\n",
    "    return model, criterion, optimizer"
   ],
   "id": "4fbb9f2106cd78f2",
   "outputs": [],
   "execution_count": 4
  },
  {
   "metadata": {},
   "cell_type": "markdown",
   "source": "## Prepare training function",
   "id": "ef59708b5382f94"
  },
  {
   "metadata": {
    "ExecuteTime": {
     "end_time": "2024-12-15T23:07:57.406550Z",
     "start_time": "2024-12-15T23:07:57.403993Z"
    }
   },
   "cell_type": "code",
   "source": [
    "def print_progress_bar(percentage, loss):\n",
    "    bar_length = 50  # Length of the progress bar\n",
    "    filled_length = int(bar_length * percentage // 100)\n",
    "    bar = '=' * filled_length + '-' * (bar_length - filled_length)\n",
    "    sys.stdout.write(f\"\\r[{bar}] {percentage:.2f}% [Loss: {loss:.6f}]\")\n",
    "    sys.stdout.flush()"
   ],
   "id": "ac3224cd7ff8f852",
   "outputs": [],
   "execution_count": 5
  },
  {
   "metadata": {
    "ExecuteTime": {
     "end_time": "2024-12-15T23:07:57.444280Z",
     "start_time": "2024-12-15T23:07:57.440415Z"
    }
   },
   "cell_type": "code",
   "source": [
    "def train(criterion, device, epochs, model, optimizer, dataloader, model_handler,  log_batches: bool = False):\n",
    "    model.train()\n",
    "    for epoch in range(epochs):  # Adjust the number of epochs\n",
    "        running_loss = 0.0\n",
    "        for batch_id, (images, mag1c, filtered_image, labels) in enumerate(dataloader):  # Assume a PyTorch DataLoader is set up\n",
    "            optimizer.zero_grad()\n",
    "\n",
    "            input_image = torch.cat((images, mag1c), dim=1).to(device)\n",
    "            filtered_image = filtered_image.to(device)\n",
    "            labels = labels.long().to(device)\n",
    "\n",
    "            outputs = model(input_image, filtered_image)\n",
    "\n",
    "            loss = criterion(outputs, labels)\n",
    "            loss.backward()\n",
    "            optimizer.step()\n",
    "            running_loss += loss.item()\n",
    "\n",
    "            if log_batches and (batch_id + 1) % 10 == 0:\n",
    "                print_progress_bar(batch_id / len(dataloader) * 100, running_loss / (batch_id + 1))\n",
    "\n",
    "        print(f\"Epoch {epoch + 1}, Loss: {running_loss / len(dataloader)}\")\n",
    "        model_handler.save_raw_model(model)"
   ],
   "id": "b4c4eb62cccb104c",
   "outputs": [],
   "execution_count": 6
  },
  {
   "metadata": {},
   "cell_type": "markdown",
   "source": "## Prepare evaluate function",
   "id": "ead9dd1c2d9c4483"
  },
  {
   "metadata": {
    "ExecuteTime": {
     "end_time": "2024-12-15T23:07:57.451407Z",
     "start_time": "2024-12-15T23:07:57.444280Z"
    }
   },
   "cell_type": "code",
   "source": [
    "def evaluate(criterion, device, model, dataloader, measurer):\n",
    "    model.eval()\n",
    "    all_predictions = []\n",
    "    all_labels = []\n",
    "    running_loss = 0.0\n",
    "\n",
    "    for batch_id, (images, mag1c, filtered_image, labels) in enumerate(dataloader):\n",
    "        input_image = torch.cat((images, mag1c), dim=1).to(device)\n",
    "        filtered_image = filtered_image.to(device)\n",
    "        labels = labels.long().to(device)\n",
    "\n",
    "        outputs = model(input_image, filtered_image)\n",
    "\n",
    "        predictions = torch.argmax(outputs, dim=1)\n",
    "        loss = criterion(outputs, labels)\n",
    "\n",
    "        running_loss += loss.item()\n",
    "        all_predictions.append(predictions.cpu().detach())\n",
    "        all_labels.append(labels.cpu().detach())\n",
    "\n",
    "    measures = measurer.compute_measures(torch.cat(all_predictions), torch.cat(all_labels))\n",
    "    print(f\"Validation loss: {running_loss / len(dataloader)}.\\nMeasures:\\n{measures}\")\n",
    "    return measures"
   ],
   "id": "deed82ce61ddca3f",
   "outputs": [],
   "execution_count": 7
  },
  {
   "metadata": {},
   "cell_type": "markdown",
   "source": "# Train model ",
   "id": "5a5f24876565680a"
  },
  {
   "metadata": {
    "ExecuteTime": {
     "end_time": "2024-12-16T06:53:32.644999Z",
     "start_time": "2024-12-15T23:07:57.455028Z"
    }
   },
   "cell_type": "code",
   "source": [
    "epochs = 15\n",
    "device = \"cuda\" if torch.cuda.is_available() else \"cpu\"\n",
    "lr = 1e-4\n",
    "\n",
    "from models.Transformer.MethaneMapper.model import TransformerModel\n",
    "\n",
    "train_dataloader, test_dataloader = setup_dataloaders(\n",
    "    batch_size=8,\n",
    "    image_info_class=MMClassifierDatasetInfo,\n",
    "    crop_size=1,\n",
    "    train_type=DatasetType.TRAIN,\n",
    ")\n",
    "model = TransformerModel(\n",
    "    n_queries=5,\n",
    "    n_decoder_layers=5,\n",
    "    n_encoder_layers=5,\n",
    "    d_model=256,\n",
    ")\n",
    "model, criterion, optimizer = setup_model(model, lr, device)\n",
    "model_handler = ModelFilesHandler()\n",
    "measurer = MeasureToolFactory.get_measure_tool(MeasuresModelType.TRANSFORMER)\n",
    "\n",
    "train(criterion, device, epochs, model, optimizer, train_dataloader, model_handler, log_batches=True)\n",
    "measures = evaluate(criterion, device, model, test_dataloader, measurer)\n"
   ],
   "id": "72d2ee60759244d",
   "outputs": [
    {
     "name": "stdout",
     "output_type": "stream",
     "text": [
      "[================================================--] 97.67% [Loss: 0.555906]Epoch 1, Loss: 0.5537925038860116\n",
      "[================================================--] 97.67% [Loss: 0.382885]Epoch 2, Loss: 0.3864207014893041\n",
      "[================================================--] 97.67% [Loss: 0.341003]Epoch 3, Loss: 0.3400774046057935\n",
      "[================================================--] 97.67% [Loss: 0.318815]Epoch 4, Loss: 0.316559464536121\n",
      "[================================================--] 97.67% [Loss: 0.300078]Epoch 5, Loss: 0.2998708568834689\n",
      "[================================================--] 97.67% [Loss: 0.308361]Epoch 6, Loss: 0.3059629053333318\n",
      "[================================================--] 97.67% [Loss: 0.297840]Epoch 7, Loss: 0.2997265871883411\n",
      "[================================================--] 97.67% [Loss: 0.279824]Epoch 8, Loss: 0.2793318437464483\n",
      "[================================================--] 97.67% [Loss: 0.273147]Epoch 9, Loss: 0.27225185238207\n",
      "[================================================--] 97.67% [Loss: 0.264798]Epoch 10, Loss: 0.26723014368699527\n",
      "[================================================--] 97.67% [Loss: 0.259510]Epoch 11, Loss: 0.26553262953184076\n",
      "[================================================--] 97.67% [Loss: 0.264063]Epoch 12, Loss: 0.2655798169569327\n",
      "[================================================--] 97.67% [Loss: 0.259214]Epoch 13, Loss: 0.26023597856831576\n",
      "[================================================--] 97.67% [Loss: 0.260574]Epoch 14, Loss: 0.2673635436004866\n",
      "[================================================--] 97.67% [Loss: 0.253474]Epoch 15, Loss: 0.2573474009210865\n",
      "Validation loss: 0.6195664371006451.\n",
      "Measures:\n",
      "         TP        FP        FN        TN  Precision  Sensitivity  \\\n",
      "0  0.280702  0.020468  0.207602  0.491228   0.932036     0.574849   \n",
      "\n",
      "   Specificity       NPV   FPR  Accuracy   F-Score       IoU      MCC  \\\n",
      "0     0.959998  0.702928  0.04  0.771929  0.711109  0.551724  0.58276   \n",
      "\n",
      "        AUC        CI  \n",
      "0  0.767425  0.048693  \n"
     ]
    }
   ],
   "execution_count": 8
  },
  {
   "metadata": {},
   "cell_type": "markdown",
   "source": "# Save model",
   "id": "e519706b2f962064"
  },
  {
   "metadata": {
    "ExecuteTime": {
     "end_time": "2024-12-16T06:53:33.189462Z",
     "start_time": "2024-12-16T06:53:32.687424Z"
    }
   },
   "cell_type": "code",
   "source": [
    "model_handler.save_model(\n",
    "    model=model,\n",
    "    metrics = measures,\n",
    "    model_type=MeasuresModelType.TRANSFORMER_CLASSIFIER,\n",
    "    epoch=epochs,\n",
    ")"
   ],
   "id": "d1aae91ca9193b16",
   "outputs": [
    {
     "data": {
      "text/plain": [
       "'trained_models\\\\model_transformer_classifier_2024_12_16_07_53_32.pickle'"
      ]
     },
     "execution_count": 9,
     "metadata": {},
     "output_type": "execute_result"
    }
   ],
   "execution_count": 9
  }
 ],
 "metadata": {
  "kernelspec": {
   "display_name": "Python 3",
   "language": "python",
   "name": "python3"
  },
  "language_info": {
   "codemirror_mode": {
    "name": "ipython",
    "version": 2
   },
   "file_extension": ".py",
   "mimetype": "text/x-python",
   "name": "python",
   "nbconvert_exporter": "python",
   "pygments_lexer": "ipython2",
   "version": "2.7.6"
  }
 },
 "nbformat": 4,
 "nbformat_minor": 5
}
